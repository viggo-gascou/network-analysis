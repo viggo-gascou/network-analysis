{
 "cells": [
  {
   "cell_type": "code",
   "source": "# Start writing code here...\nprint(\"Hello World!\")",
   "metadata": {
    "cell_id": "e23d6bc9-985b-40dc-86cb-2a4e2ecb403a",
    "tags": [],
    "deepnote_to_be_reexecuted": false,
    "source_hash": "5da3873d",
    "execution_start": 1663242541026,
    "execution_millis": 2,
    "output_cleared": true,
    "deepnote_cell_type": "code",
    "deepnote_cell_height": 125
   },
   "execution_count": null,
   "outputs": []
  },
  {
   "cell_type": "markdown",
   "source": "[Link to paper](https://arxiv.org/abs/1704.07525)\n\n![image](https://user-images.githubusercontent.com/94069687/190230598-a08c163b-12b2-4132-bb1c-cf71568d9334.png)",
   "metadata": {
    "cell_id": "00001-5c9cba74-920f-403f-bdd6-2ab452f188fd",
    "deepnote_cell_type": "markdown",
    "deepnote_cell_height": 92
   }
  },
  {
   "cell_type": "code",
   "source": "import networkx as nx\nimport pandas as pd\nimport seaborn as sns\nimport matplotlib.pyplot as plt\nfrom collections import Counter",
   "metadata": {
    "cell_id": "00002-8ca25e42-53c1-42f4-a488-876347b8c2d4",
    "deepnote_to_be_reexecuted": false,
    "source_hash": "6ce851ea",
    "execution_start": 1663242541026,
    "execution_millis": 1136,
    "output_cleared": true,
    "deepnote_cell_type": "code",
    "deepnote_cell_height": 148
   },
   "execution_count": null,
   "outputs": []
  },
  {
   "cell_type": "code",
   "source": "edge_df = pd.read_csv(\"darkweb_2017/darkweb-edges.ss\", delimiter=\";\", header=0)\nnode_df = pd.read_csv(\"darkweb_2017/darkweb-nodes.ss\", delimiter=\";\", header=0)",
   "metadata": {
    "cell_id": "00003-fc7fa3f6-9a32-4412-ae1a-654097fe604d",
    "deepnote_to_be_reexecuted": false,
    "source_hash": "30bef970",
    "execution_start": 1663242542165,
    "execution_millis": 43,
    "output_cleared": true,
    "deepnote_cell_type": "code",
    "deepnote_cell_height": 94
   },
   "execution_count": null,
   "outputs": []
  },
  {
   "cell_type": "code",
   "source": "edge_df.head()",
   "metadata": {
    "cell_id": "00004-db72b0c1-6ed7-47f3-84dd-ca1f1c8b31dc",
    "deepnote_to_be_reexecuted": false,
    "source_hash": "393c289d",
    "execution_start": 1663242542209,
    "execution_millis": 2,
    "deepnote_table_state": {
     "pageSize": 25,
     "pageIndex": 0,
     "filters": [],
     "sortBy": []
    },
    "deepnote_table_loading": false,
    "output_cleared": true,
    "deepnote_cell_type": "code",
    "deepnote_cell_height": 390
   },
   "execution_count": null,
   "outputs": []
  },
  {
   "cell_type": "code",
   "source": "node_df.head()",
   "metadata": {
    "cell_id": "00005-2c46e8b2-b804-4b35-a4fe-85d3dac93a40",
    "deepnote_to_be_reexecuted": false,
    "source_hash": "e6042448",
    "execution_start": 1663242542218,
    "execution_millis": 3,
    "output_cleared": true,
    "deepnote_cell_type": "code",
    "deepnote_cell_height": 390
   },
   "execution_count": null,
   "outputs": []
  },
  {
   "cell_type": "code",
   "source": "G = nx.from_pandas_edgelist(edge_df, source=\"Source\", target=\"Target\", edge_attr=\"Weight\", create_using=nx.DiGraph())",
   "metadata": {
    "cell_id": "00006-0b7ed538-eb61-41b2-9e54-cdc99e185342",
    "deepnote_to_be_reexecuted": false,
    "source_hash": "23285b92",
    "execution_start": 1663242542222,
    "execution_millis": 141,
    "output_cleared": true,
    "deepnote_cell_type": "code",
    "deepnote_cell_height": 81
   },
   "execution_count": null,
   "outputs": []
  },
  {
   "cell_type": "code",
   "source": "%%script echo skipping\nfig, ax = plt.subplots(figsize=(15,10))\n\npos = nx.spring_layout(G, seed=7)\nnx.draw_networkx_nodes(G, pos, node_size=1)\n#nx.draw_networkx_edges(G, pos)\nplt.show()",
   "metadata": {
    "cell_id": "00007-e5fe35c9-b641-4bd2-ba79-9b4a11b7b3a7",
    "deepnote_to_be_reexecuted": false,
    "source_hash": "197ac51c",
    "execution_start": 1663242542408,
    "execution_millis": 2,
    "output_cleared": true,
    "deepnote_cell_type": "code",
    "deepnote_cell_height": 215
   },
   "execution_count": null,
   "outputs": []
  },
  {
   "cell_type": "code",
   "source": "# global clustering coefficient\nnx.transitivity(G)",
   "metadata": {
    "cell_id": "00008-072e22e7-7a38-4ad0-a65b-48bc5664e42d",
    "deepnote_to_be_reexecuted": false,
    "source_hash": "44db619b",
    "execution_start": 1663242542452,
    "execution_millis": 36,
    "output_cleared": true,
    "deepnote_cell_type": "code",
    "deepnote_cell_height": 130,
    "deepnote_output_heights": [
     20
    ]
   },
   "execution_count": null,
   "outputs": []
  },
  {
   "cell_type": "code",
   "source": "# average clustering coefficient\nnx.average_clustering(G)",
   "metadata": {
    "cell_id": "00009-eca93384-1342-41d3-a818-b8509d98980b",
    "deepnote_to_be_reexecuted": false,
    "source_hash": "2ed31a2",
    "execution_start": 1663242542499,
    "execution_millis": 3208,
    "output_cleared": true,
    "deepnote_cell_type": "code",
    "deepnote_cell_height": 130,
    "deepnote_output_heights": [
     20
    ]
   },
   "execution_count": null,
   "outputs": []
  },
  {
   "cell_type": "code",
   "source": "",
   "metadata": {
    "cell_id": "6d0eb339bccd4548874f3fe817d26b25",
    "tags": [],
    "deepnote_to_be_reexecuted": false,
    "source_hash": "b623e53d",
    "execution_start": 1663242545669,
    "execution_millis": 1,
    "output_cleared": true,
    "deepnote_cell_type": "code",
    "deepnote_cell_height": 76
   },
   "execution_count": null,
   "outputs": []
  },
  {
   "cell_type": "markdown",
   "source": "## 2",
   "metadata": {
    "formattedRanges": [],
    "is_collapsed": false,
    "cell_id": "81534653791a40eea848e0a5146823a5",
    "tags": [],
    "deepnote_cell_type": "text-cell-h2"
   }
  },
  {
   "cell_type": "markdown",
   "source": "Basic network statistics of your data (number of nodes, edges, clustering, degree distribution, etc). In practice, the result of project phase #2 (exploratory data analysis).",
   "metadata": {
    "formattedRanges": [],
    "is_collapsed": false,
    "cell_id": "9c973c6b-6dc3-41d0-80bb-26995e0081e7",
    "tags": [],
    "deepnote_cell_type": "text-cell-p"
   }
  },
  {
   "cell_type": "markdown",
   "source": "## Degree Distribution",
   "metadata": {
    "formattedRanges": [],
    "is_collapsed": false,
    "cell_id": "9176e8d7-f2df-4b97-8e72-19842dd077de",
    "tags": [],
    "deepnote_cell_type": "text-cell-h2"
   }
  },
  {
   "cell_type": "markdown",
   "source": "A degree distribution is a degree scatter plot, the degree on the x-axis and the number of nodes on the y-axis.",
   "metadata": {
    "formattedRanges": [],
    "is_collapsed": false,
    "cell_id": "5cab981c-cd49-48de-9290-376ffb62b96c",
    "tags": [],
    "deepnote_cell_type": "text-cell-p"
   }
  },
  {
   "cell_type": "markdown",
   "source": "Commonly, one would normalise the y-axis by dividing its values by the number of nodes in the network, and the y-axis is the probability if a node to have a degree equal to k.",
   "metadata": {
    "formattedRanges": [],
    "is_collapsed": false,
    "cell_id": "648effa0-f608-4796-9eca-b9389712c552",
    "tags": [],
    "deepnote_cell_type": "text-cell-p"
   }
  },
  {
   "cell_type": "markdown",
   "source": "",
   "metadata": {
    "formattedRanges": [],
    "is_collapsed": false,
    "cell_id": "37b7c416-0a83-47f1-b1e7-b5b649fe0fbf",
    "tags": [],
    "deepnote_cell_type": "text-cell-p"
   }
  },
  {
   "cell_type": "code",
   "source": "# Add a column to the dataframe with the node's degree\nnum_degrees = Counter(node_df[\"Degree\"]) \n\ndegree_dict = G.degree()\nresult = []\nfor value in degree_dict:\n    result.append(value[1])\nnode_df[\"Degree\"] = result\n\ndegrees = num_degrees.keys()\ncounts = num_degrees.values()\n\npw = pd.DataFrame()\npw[\"k\"] = degrees\npw[\"count\"] = counts\npw",
   "metadata": {
    "cell_id": "13b7541958224b45b7768a48dd47bc3c",
    "tags": [],
    "deepnote_to_be_reexecuted": false,
    "source_hash": "ba41d7f2",
    "execution_start": 1663243113880,
    "execution_millis": 8,
    "deepnote_table_state": {
     "pageSize": 10,
     "pageIndex": 10,
     "filters": [],
     "sortBy": []
    },
    "deepnote_table_loading": false,
    "output_cleared": true,
    "deepnote_cell_type": "code",
    "deepnote_cell_height": 619
   },
   "execution_count": null,
   "outputs": []
  },
  {
   "cell_type": "code",
   "source": "# plot the degrees against the number of nodes \n\n\nprob_degrees = []\n#for node in \n\npw.plot(x = \"k\", y = \"count\", kind = \"scatter\")",
   "metadata": {
    "cell_id": "12189d83ac9941b18a7afd1299913663",
    "tags": [],
    "deepnote_to_be_reexecuted": false,
    "source_hash": "6bd5ca52",
    "execution_start": 1663243234338,
    "execution_millis": 230,
    "output_cleared": true,
    "deepnote_cell_type": "code",
    "deepnote_cell_height": 690,
    "deepnote_output_heights": [
     20,
     439
    ]
   },
   "execution_count": null,
   "outputs": []
  },
  {
   "cell_type": "code",
   "source": "pw.plot(x = \"k\", y = \"count\", kind = \"scatter\", loglog= True)",
   "metadata": {
    "cell_id": "831316bc4d7f45e9a96e76433632760f",
    "tags": [],
    "deepnote_to_be_reexecuted": false,
    "source_hash": "6b4d7570",
    "execution_start": 1663243261340,
    "execution_millis": 1250,
    "output_cleared": true,
    "deepnote_cell_type": "code",
    "deepnote_cell_height": 581,
    "deepnote_output_heights": [
     20,
     438
    ]
   },
   "execution_count": null,
   "outputs": []
  },
  {
   "cell_type": "code",
   "source": "",
   "metadata": {
    "cell_id": "59e02656a7ed48dd9f8894ae08b07d42",
    "tags": [],
    "deepnote_to_be_reexecuted": true,
    "source_hash": "b623e53d",
    "output_cleared": true,
    "deepnote_cell_type": "code",
    "deepnote_cell_height": 76
   },
   "execution_count": null,
   "outputs": []
  },
  {
   "cell_type": "markdown",
   "source": "<a style='text-decoration:none;line-height:16px;display:flex;color:#5B5B62;padding:10px;justify-content:end;' href='https://deepnote.com?utm_source=created-in-deepnote-cell&projectId=6f843856-fc0a-4528-82df-ce4d1b752717' target=\"_blank\">\n<img alt='Created in deepnote.com' style='display:inline;max-height:16px;margin:0px;margin-right:7.5px;' src='data:image/svg+xml;base64,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' > </img>\nCreated in <span style='font-weight:600;margin-left:4px;'>Deepnote</span></a>",
   "metadata": {
    "tags": [],
    "created_in_deepnote_cell": true,
    "deepnote_cell_type": "markdown"
   }
  }
 ],
 "nbformat": 4,
 "nbformat_minor": 2,
 "metadata": {
  "deepnote": {},
  "deepnote_execution_queue": [],
  "deepnote_notebook_id": "5ac5d25e-61f9-4bc9-af14-7d815e5ff4b7",
  "kernelspec": {
   "display_name": "Python 3.9.12 ('base')",
   "language": "python",
   "name": "python3"
  },
  "language_info": {
   "codemirror_mode": {
    "name": "ipython",
    "version": 3
   },
   "file_extension": ".py",
   "mimetype": "text/x-python",
   "name": "python",
   "nbconvert_exporter": "python",
   "pygments_lexer": "ipython3",
   "version": "3.9.12"
  },
  "orig_nbformat": 2,
  "vscode": {
   "interpreter": {
    "hash": "b989256eb56f7c452f8df4a64159a114113bfaae6a03bedf3a667d033260f0d6"
   }
  }
 }
}