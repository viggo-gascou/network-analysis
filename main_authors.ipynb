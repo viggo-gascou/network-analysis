{
 "cells": [
  {
   "cell_type": "code",
   "metadata": {
    "cell_id": "4dac77611443455b8fa8bce551077dd1",
    "source_hash": "50cf8f42",
    "output_cleared": false,
    "execution_start": 1668083827276,
    "execution_millis": 31,
    "deepnote_to_be_reexecuted": false,
    "deepnote_cell_type": "code",
    "deepnote_cell_height": 822
   },
   "source": "import networkx as nx\nimport pandas as pd\nimport seaborn as sns\nimport matplotlib.pyplot as plt\nfrom collections import Counter\nimport numpy as np\n\nimport scripts.summary as summary ",
   "execution_count": null,
   "outputs": [
    {
     "name": "stdout",
     "text": "                   GLOBAL MEASURES                  \n----------------------------------------------------\nMeasure                              Value\n-----------------------------------  ------------------\nNumber of nodes:                     10\nNumber of edges:                     25\nDiameter:                            2\nDensity of the graph:                0.5555555555555556\n----------------                     ----------------\nFive number summary of the degrees:  ----------------\nMinimum degree:                      0.0\nLower Quantile:                      2.25\nMedian Value:                        4.5\nUpper Quantile:                      6.75\nMaximum degree:                      9.0\n----------------                     ----------------\nGlobal clustering coefficient:       0.5480769230769231\nAverage clustering coefficient:      0.5433333333333333\nAverage Shortest Path:               1.4444444444444444\n                   LOCAL MEASURES                  \n----------------------------------------------------\nMeasure                 n    Node, Measure\n----------------------  ---  -------------------------\nCloseness Centrality\n--                      1    (0, 0.6666666666666666)\n--                      2    (3, 0.6666666666666666)\n--                      3    (5, 0.6666666666666666)\n--                      4    (1, 0.5555555555555556)\n--                      5    (6, 0.5555555555555556)\nBetweenness Centrality\n--                      1    (6, 0.11574074074074071)\n--                      2    (1, 0.08564814814814814)\n--                      3    (5, 0.07870370370370369)\n--                      4    (9, 0.0648148148148148)\n--                      5    (0, 0.055555555555555546)\nDegree Centrality\n--                      1    (0, 0.6666666666666666)\n--                      2    (3, 0.6666666666666666)\n--                      3    (5, 0.6666666666666666)\n--                      4    (1, 0.5555555555555556)\n--                      5    (6, 0.5555555555555556)\nNumber of maximal cliques in the compontent: 8\nLargest clique in network: 5.\n",
     "output_type": "stream"
    }
   ]
  },
  {
   "cell_type": "markdown",
   "source": "1. Basic network description of your data (what type of network it is, what does it represent, is it real or synthetically generated, etc). In practice, the result of project phase #1 (finding data).",
   "metadata": {
    "formattedRanges": [
     {
      "type": "marks",
      "fromCodePoint": 0,
      "toCodePoint": 196,
      "marks": {
       "bold": true
      }
     }
    ],
    "is_collapsed": false,
    "tags": [],
    "style": "decimal",
    "number": 1,
    "cell_id": "6daad6cb088d4b29bd3e263db9584ee4",
    "deepnote_cell_type": "text-cell-number"
   }
  },
  {
   "cell_type": "markdown",
   "source": "https://networks.skewed.de/net/arxiv_authors#GrQc",
   "metadata": {
    "formattedRanges": [
     {
      "type": "link",
      "url": "https://networks.skewed.de/net/arxiv_authors#GrQc",
      "fromCodePoint": 0,
      "toCodePoint": 49,
      "ranges": []
     }
    ],
    "is_collapsed": false,
    "tags": [],
    "style": "decimal",
    "cell_id": "ddb6a2a6-6066-418d-9c45-358c8778c976",
    "deepnote_cell_type": "text-cell-p"
   }
  },
  {
   "cell_type": "markdown",
   "source": "Scientific collaborations between authors of papers submitted to arxiv.org, under 5 categories: gr-qc (general relativity and quantum cosmology), astro-ph (astro physics), cond-mat (condensed matter), hep-ph (high energy physics), and hep-th (high energy theory) categories, spanning January 1993 to April 2003. ",
   "metadata": {
    "formattedRanges": [],
    "is_collapsed": false,
    "tags": [],
    "style": "decimal",
    "cell_id": "e983643425334898874d86a3a5ad750e",
    "deepnote_cell_type": "text-cell-p"
   }
  },
  {
   "cell_type": "markdown",
   "source": "If an author i co-authored a paper with author j, the graph contains an undirected edge from i to j. If the paper is co-authored by k authors this generates a completely connected (sub)graph on k nodes (there is an edge if authors coauthored at least one paper).",
   "metadata": {
    "formattedRanges": [],
    "tags": [],
    "style": "decimal",
    "cell_id": "61dafdcb11964d2fb272f97d22b329b7",
    "is_collapsed": false,
    "deepnote_cell_type": "text-cell-p"
   }
  },
  {
   "cell_type": "markdown",
   "source": "We chose the network GrQc, which stands for General Relativity and Quantum Cosmology. ",
   "metadata": {
    "formattedRanges": [],
    "tags": [],
    "style": "decimal",
    "cell_id": "1e864be31d1a491b9fe6f9f045a4432c",
    "is_collapsed": false,
    "deepnote_cell_type": "text-cell-p"
   }
  },
  {
   "cell_type": "markdown",
   "source": "General Relativity: General relativity, also known as the general theory of relativity and Einstein's theory of gravity, is the geometric theory of gravitation published by Albert Einstein in 1915 and is the current description of gravitation in modern physics.",
   "metadata": {
    "formattedRanges": [
     {
      "type": "marks",
      "marks": {
       "bold": true
      },
      "toCodePoint": 20,
      "fromCodePoint": 0
     }
    ],
    "tags": [],
    "cell_id": "f638457c9a894ff7892da3dfcc068ea0",
    "is_collapsed": false,
    "deepnote_cell_type": "text-cell-p"
   }
  },
  {
   "cell_type": "markdown",
   "source": "Quantum Cosmology: Quantum cosmology is the attempt in theoretical physics to develop a quantum theory of the universe. This approach attempts to answer open questions of classical physical cosmology, particularly those related to the first phases of the universe.",
   "metadata": {
    "formattedRanges": [
     {
      "type": "marks",
      "marks": {
       "bold": true
      },
      "toCodePoint": 19,
      "fromCodePoint": 0
     }
    ],
    "tags": [],
    "cell_id": "2aef77cd834241648f72515d1e57aa11",
    "is_collapsed": false,
    "deepnote_cell_type": "text-cell-p"
   }
  },
  {
   "cell_type": "markdown",
   "source": "2. Basic network statistics of your data (number of nodes, edges, clustering, degree distribution, etc). In practice, the result of project phase #2 (exploratory data analysis).",
   "metadata": {
    "formattedRanges": [
     {
      "type": "marks",
      "marks": {
       "bold": true
      },
      "toCodePoint": 177,
      "fromCodePoint": 0
     }
    ],
    "tags": [],
    "cell_id": "6415efb99570480688e68464b15fda8d",
    "is_collapsed": false,
    "deepnote_cell_type": "text-cell-p"
   }
  },
  {
   "cell_type": "markdown",
   "source": "Number of nodes: 5242 ????",
   "metadata": {
    "formattedRanges": [],
    "is_collapsed": false,
    "tags": [],
    "cell_id": "f10adc692c24431cb0b649ad953fc4f5",
    "deepnote_cell_type": "text-cell-p"
   }
  },
  {
   "cell_type": "markdown",
   "source": "???? Number of nodes without edges: 20,955 ????",
   "metadata": {
    "formattedRanges": [],
    "is_collapsed": false,
    "tags": [],
    "cell_id": "5c70dcb8-8d46-457a-bc49-a339891ccae7",
    "deepnote_cell_type": "text-cell-p"
   }
  },
  {
   "cell_type": "markdown",
   "source": "Number of edges: 28,980 (14,490) //all edges are written twice in the dataset ????",
   "metadata": {
    "formattedRanges": [],
    "is_collapsed": false,
    "tags": [],
    "cell_id": "8fad9ea9a8c24d508d9a7feed421122c",
    "deepnote_cell_type": "text-cell-p"
   }
  },
  {
   "cell_type": "markdown",
   "source": "Link til research paper: http://www.cs.cmu.edu/~jure/pubs/powergrowth-tkdd.pdf",
   "metadata": {
    "formattedRanges": [
     {
      "type": "link",
      "url": "http://www.cs.cmu.edu/~jure/pubs/powergrowth-tkdd.pdf",
      "fromCodePoint": 25,
      "toCodePoint": 78,
      "ranges": []
     }
    ],
    "is_collapsed": false,
    "tags": [],
    "cell_id": "0ee1c65ab1e742e5bacc7bcec136c66b",
    "deepnote_cell_type": "text-cell-p"
   }
  },
  {
   "cell_type": "markdown",
   "source": "Link to our network: http://snap.stanford.edu/data/ca-GrQc.html",
   "metadata": {
    "formattedRanges": [
     {
      "type": "link",
      "url": "http://snap.stanford.edu/data/ca-GrQc.html",
      "fromCodePoint": 21,
      "toCodePoint": 63,
      "ranges": []
     }
    ],
    "is_collapsed": false,
    "tags": [],
    "cell_id": "1655d920746343f5a6926b7490a03fa2",
    "deepnote_cell_type": "text-cell-p"
   }
  },
  {
   "cell_type": "markdown",
   "source": "Link to all the collaboration networks: http://snap.stanford.edu/data/index.html#canets",
   "metadata": {
    "formattedRanges": [
     {
      "type": "link",
      "url": "http://snap.stanford.edu/data/index.html#canets",
      "fromCodePoint": 40,
      "toCodePoint": 87,
      "ranges": []
     }
    ],
    "is_collapsed": false,
    "tags": [],
    "cell_id": "9d049698-e134-46d0-bc36-6a640954b368",
    "deepnote_cell_type": "text-cell-p"
   }
  },
  {
   "cell_type": "markdown",
   "source": "\nThe analysis, results, and interpretation that allow you to answer your research question, the result of project phase #4.",
   "metadata": {
    "formattedRanges": [
     {
      "type": "marks",
      "marks": {
       "bold": true
      },
      "toCodePoint": 122,
      "fromCodePoint": 1
     }
    ],
    "tags": [],
    "cell_id": "98918243b74743cca683f04993103de3",
    "is_collapsed": false,
    "deepnote_cell_type": "text-cell-p"
   }
  },
  {
   "cell_type": "code",
   "metadata": {
    "cell_id": "eba9c9e5f34b406faac670de509ee9f9",
    "source_hash": "7b40b966",
    "output_cleared": false,
    "execution_start": 1668080960869,
    "execution_millis": 29,
    "deepnote_to_be_reexecuted": false,
    "deepnote_cell_type": "code",
    "deepnote_cell_height": 148
   },
   "source": "# Load data\n\nedge_df = pd.read_csv(\"data/edges.csv\", delimiter=\",\")\nnode_df = pd.read_csv(\"data/nodes.csv\", delimiter=\",\")\n",
   "execution_count": null,
   "outputs": []
  },
  {
   "cell_type": "code",
   "metadata": {
    "cell_id": "be7470ad040b4e37ac54169e182e0f40",
    "source_hash": "e16fc465",
    "output_cleared": false,
    "execution_start": 1668080963298,
    "execution_millis": 9,
    "deepnote_to_be_reexecuted": false,
    "deepnote_cell_type": "code",
    "deepnote_cell_height": 207,
    "deepnote_output_heights": [
     20
    ]
   },
   "source": "# Turn into networkx graph\n\nG = nx.from_pandas_edgelist(edge_df, source=\"# source\", target=\" target\", create_using=nx.Graph())\n\nnx.number_of_edges(G)\n",
   "execution_count": null,
   "outputs": [
    {
     "output_type": "execute_result",
     "execution_count": 9,
     "data": {
      "text/plain": "14496"
     },
     "metadata": {}
    }
   ]
  },
  {
   "cell_type": "code",
   "metadata": {
    "cell_id": "0675ab3825074e638be8b54cbe2077d1",
    "source_hash": "85a67d6",
    "output_cleared": false,
    "execution_start": 1668064781122,
    "execution_millis": 10,
    "deepnote_to_be_reexecuted": false,
    "deepnote_cell_type": "code",
    "deepnote_cell_height": 215
   },
   "source": "%%script echo skipping\nfig, ax = plt.subplots(figsize=(15,10))\n\npos = nx.spring_layout(G, seed=7)\nnx.draw_networkx_nodes(G, pos, node_size=1)\nnx.draw_networkx_edges(G, pos)\nplt.savefig(\"figures/graph_with_edges.png\")",
   "execution_count": null,
   "outputs": [
    {
     "name": "stdout",
     "text": "skipping\n",
     "output_type": "stream"
    }
   ]
  },
  {
   "cell_type": "markdown",
   "source": "Transitivity is the overall probability for the network to have adjacent nodes interconnected, thus revealing the existence of tightly connected communities (or clusters, subgroups, cliques). ",
   "metadata": {
    "formattedRanges": [
     {
      "type": "marks",
      "marks": {
       "bold": true
      },
      "toCodePoint": 12,
      "fromCodePoint": 0
     }
    ],
    "tags": [],
    "cell_id": "c429bbf179d84758880fa64d275f0edd",
    "is_collapsed": false,
    "deepnote_cell_type": "text-cell-p"
   }
  },
  {
   "cell_type": "code",
   "metadata": {
    "cell_id": "b7eb930b4fab4b91bdd3d3c1b22a9066",
    "tags": [],
    "deepnote_to_be_reexecuted": false,
    "source_hash": "351b727a",
    "execution_start": 1668084121177,
    "execution_millis": 729129,
    "deepnote_cell_type": "code",
    "deepnote_cell_height": 714
   },
   "source": "largest_cc = max(nx.connected_components(G), key=len)\nLG = G.subgraph(largest_cc)",
   "execution_count": null,
   "outputs": [
    {
     "name": "stdout",
     "text": "                   GLOBAL MEASURES                  \n----------------------------------------------------\nMeasure                              Value\n-----------------------------------  ---------------------\nNumber of nodes:                     4158\nNumber of edges:                     13428\nDiameter:                            17\nDensity of the graph:                0.0015537345342493286\n----------------                     ----------------\nFive number summary of the degrees:  ----------------\nMinimum degree:                      22.0\nLower Quantile:                      6445.25\nMedian Value:                        13475.0\nUpper Quantile:                      19612.75\nMaximum degree:                      26196.0\n----------------                     ----------------\nGlobal clustering coefficient:       0.6288944756689877\nAverage clustering coefficient:      0.5568782161697929\nAverage Shortest Path:               6.049380016182999\n                   LOCAL MEASURES                  \n----------------------------------------------------\nMeasure                 n    Node, Measure\n----------------------  ---  -----------------------------\nCloseness Centrality\n--                      1    (21012, 0.019485205677171036)\n--                      2    (21281, 0.01900408948761126)\n--                      3    (12365, 0.01852297329805148)\n--                      4    (22691, 0.01852297329805148)\n--                      5    (6610, 0.016357950445032476)\nBetweenness Centrality\n--                      1    (13801, 0.058858633339572676)\n--                      2    (9572, 0.04083543405882199)\n--                      3    (14599, 0.04051657864826681)\n--                      4    (7689, 0.03969337449033486)\n--                      5    (13929, 0.03918809074156514)\nDegree Centrality\n--                      1    (21012, 0.019485205677171036)\n--                      2    (21281, 0.01900408948761126)\n--                      3    (12365, 0.01852297329805148)\n--                      4    (22691, 0.01852297329805148)\n--                      5    (6610, 0.016357950445032476)\nNumber of maximal cliques in the compontent: 3385\nLargest clique in network: 44.\n",
     "output_type": "stream"
    }
   ]
  },
  {
   "cell_type": "code",
   "metadata": {
    "cell_id": "b5cacdf9df724d03887c51b03897e69c",
    "tags": [],
    "deepnote_to_be_reexecuted": false,
    "source_hash": "e78d1405",
    "execution_start": 1668085399598,
    "execution_millis": 738599,
    "deepnote_cell_type": "code",
    "deepnote_cell_height": 696
   },
   "source": "summary.final_return_statement(LG, 5)",
   "execution_count": null,
   "outputs": [
    {
     "name": "stdout",
     "text": "                   GLOBAL MEASURES                  \n----------------------------------------------------\nMeasure                              Value\n-----------------------------------  ---------------------\nNumber of nodes:                     4158\nNumber of edges:                     13428\nDiameter:                            17\nDensity of the graph:                0.0015537345342493286\n----------------                     ----------------\nFive number summary of the degrees:  ----------------\nMinimum degree:                      22.0\nLower Quantile:                      6445.25\nMedian Value:                        13475.0\nUpper Quantile:                      19612.75\nMaximum degree:                      26196.0\n----------------                     ----------------\nGlobal clustering coefficient:       0.6288944756689877\nAverage clustering coefficient:      0.5568782161697929\nAverage Shortest Path:               6.049380016182999\n                   LOCAL MEASURES                  \n----------------------------------------------------\nMeasure                 n    Node, Measure\n----------------------  ---  -----------------------------\nCloseness Centrality\n--                      1    (21012, 0.019485205677171036)\n--                      2    (21281, 0.01900408948761126)\n--                      3    (12365, 0.01852297329805148)\n--                      4    (22691, 0.01852297329805148)\n--                      5    (6610, 0.016357950445032476)\nBetweenness Centrality\n--                      1    (13801, 0.058858633339572676)\n--                      2    (9572, 0.04083543405882199)\n--                      3    (14599, 0.04051657864826681)\n--                      4    (7689, 0.03969337449033486)\n--                      5    (13929, 0.03918809074156514)\nDegree Centrality\n--                      1    (21012, 0.019485205677171036)\n--                      2    (21281, 0.01900408948761126)\n--                      3    (12365, 0.01852297329805148)\n--                      4    (22691, 0.01852297329805148)\n--                      5    (6610, 0.016357950445032476)\nNumber of maximal cliques in the compontent: 3385\nLargest clique in network: 44.\n",
     "output_type": "stream"
    }
   ]
  },
  {
   "cell_type": "markdown",
   "source": "### Clustering Coefficient, Triangles & Connected Components",
   "metadata": {
    "formattedRanges": [],
    "is_collapsed": false,
    "tags": [],
    "cell_id": "f5471ac7b8ff463aa3ddba22670ced7f",
    "deepnote_cell_type": "text-cell-h3"
   }
  },
  {
   "cell_type": "code",
   "metadata": {
    "cell_id": "783ec4100e634eab861890f6ee132de6",
    "source_hash": "44db619b",
    "output_cleared": false,
    "execution_start": 1668064781201,
    "execution_millis": 119,
    "deepnote_to_be_reexecuted": false,
    "deepnote_cell_type": "code",
    "deepnote_cell_height": 130,
    "deepnote_output_heights": [
     20
    ]
   },
   "source": "# global clustering coefficient\nnx.transitivity(G)",
   "execution_count": null,
   "outputs": [
    {
     "output_type": "execute_result",
     "execution_count": 5,
     "data": {
      "text/plain": "0.6298424741263426"
     },
     "metadata": {}
    }
   ]
  },
  {
   "cell_type": "markdown",
   "source": "https://graph-tool.skewed.de/static/doc/clustering.html?highlight=clustering\n",
   "metadata": {
    "tags": [],
    "cell_id": "4f20fb72fb35490a95bc3f3e8ecbe3ad",
    "deepnote_cell_type": "markdown",
    "deepnote_cell_height": 52
   }
  },
  {
   "cell_type": "code",
   "metadata": {
    "cell_id": "a5ff97871a854534952a98c6d4a4b853",
    "source_hash": "2ed31a2",
    "output_cleared": false,
    "execution_start": 1668064781319,
    "execution_millis": 73,
    "deepnote_to_be_reexecuted": false,
    "deepnote_cell_type": "code",
    "deepnote_cell_height": 130,
    "deepnote_output_heights": [
     20
    ]
   },
   "source": "# average clustering coefficient\nnx.average_clustering(G)",
   "execution_count": null,
   "outputs": [
    {
     "output_type": "execute_result",
     "execution_count": 6,
     "data": {
      "text/plain": "0.5296358110521365"
     },
     "metadata": {}
    }
   ]
  },
  {
   "cell_type": "code",
   "metadata": {
    "tags": [],
    "cell_id": "7045885ef4fa4705aafab165bce2df86",
    "source_hash": "c3855f2a",
    "execution_start": 1668087628522,
    "execution_millis": 136,
    "deepnote_to_be_reexecuted": false,
    "deepnote_cell_type": "code",
    "deepnote_cell_height": 148
   },
   "source": "# the fraction of all possible triangles present in G.\ntriangles = nx.triangles(G) # When computing triangles for the entire graph each \n# triangle is counted three times, once at each node.\n#triangles\n# it returns a dictionary with the number of trianges keyed by node label.",
   "execution_count": null,
   "outputs": []
  },
  {
   "cell_type": "code",
   "metadata": {
    "tags": [],
    "cell_id": "069f6fc52c2e4d8ba9a6a8508954c2c6",
    "source_hash": "8c435752",
    "execution_start": 1668064781548,
    "execution_millis": 0,
    "deepnote_to_be_reexecuted": false,
    "deepnote_cell_type": "code",
    "deepnote_cell_height": 202,
    "deepnote_output_heights": [
     20
    ]
   },
   "source": "nx.connected_components(G)\n\n\n# a sorted list of connected components, largest first\n#[len(c) for c in sorted(nx.connected_components(G), key=len, reverse=True)] virker ikke helt\n",
   "execution_count": null,
   "outputs": [
    {
     "output_type": "execute_result",
     "execution_count": 8,
     "data": {
      "text/plain": "<generator object connected_components at 0x7f5e1f9de890>"
     },
     "metadata": {}
    }
   ]
  },
  {
   "cell_type": "code",
   "metadata": {
    "tags": [],
    "cell_id": "103a0bc9b45c4d8c8f971beafd2d3123",
    "source_hash": "4c02cdc3",
    "execution_start": 1668064781549,
    "execution_millis": 6,
    "deepnote_to_be_reexecuted": false,
    "deepnote_cell_type": "code",
    "deepnote_cell_height": 76
   },
   "source": "#list(nx.connected_components(G))",
   "execution_count": null,
   "outputs": []
  },
  {
   "cell_type": "markdown",
   "source": "## 2",
   "metadata": {
    "formattedRanges": [],
    "tags": [],
    "cell_id": "1425e36f45ea4d019406012e911ad024",
    "is_collapsed": false,
    "deepnote_cell_type": "text-cell-h2"
   }
  },
  {
   "cell_type": "markdown",
   "source": "Basic network statistics of your data (number of nodes, edges, clustering, degree distribution, etc). In practice, the result of project phase #2 (exploratory data analysis).",
   "metadata": {
    "formattedRanges": [],
    "tags": [],
    "cell_id": "b56e8c0271dd4136aab600912f725f50",
    "is_collapsed": false,
    "deepnote_cell_type": "text-cell-p"
   }
  },
  {
   "cell_type": "markdown",
   "source": "## Degree Distribution",
   "metadata": {
    "formattedRanges": [],
    "tags": [],
    "cell_id": "22a19806423c442192fe1245206d444f",
    "is_collapsed": false,
    "deepnote_cell_type": "text-cell-h2"
   }
  },
  {
   "cell_type": "markdown",
   "source": "A degree distribution is a degree scatter plot, the degree on the x-axis and the number of nodes on the y-axis.",
   "metadata": {
    "formattedRanges": [],
    "tags": [],
    "cell_id": "e86a001364fd4934905a50a4532ff376",
    "is_collapsed": false,
    "deepnote_cell_type": "text-cell-p"
   }
  },
  {
   "cell_type": "markdown",
   "source": "Commonly, one would normalise the y-axis by dividing its values by the number of nodes in the network, and the y-axis is the probability if a node to have a degree equal to k.",
   "metadata": {
    "formattedRanges": [],
    "tags": [],
    "cell_id": "73025048f89d472d824e5db29118ce97",
    "is_collapsed": false,
    "deepnote_cell_type": "text-cell-p"
   }
  },
  {
   "cell_type": "code",
   "metadata": {
    "tags": [],
    "cell_id": "0db637e71ed1439ab307c25fc7195d6e",
    "source_hash": "9d647fcc",
    "execution_start": 1668064781549,
    "execution_millis": 11,
    "deepnote_to_be_reexecuted": false,
    "deepnote_cell_type": "code"
   },
   "source": "nx.degree(G)",
   "execution_count": null,
   "outputs": [
    {
     "output_type": "execute_result",
     "execution_count": 10,
     "data": {
      "text/plain": "DegreeView({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})"
     },
     "metadata": {}
    }
   ]
  },
  {
   "cell_type": "markdown",
   "source": "Generate a csv file containing the node and the corresponding degree of that node, and save it into the data folder as node_list_degrees.",
   "metadata": {
    "formattedRanges": [],
    "tags": [],
    "cell_id": "85d1b2e46b834f85b86bd415254e1643",
    "is_collapsed": false,
    "deepnote_cell_type": "text-cell-p"
   }
  },
  {
   "cell_type": "code",
   "metadata": {
    "tags": [],
    "cell_id": "e5a47b4326cd4f2597fc1fa9449b4904",
    "source_hash": "b77974b6",
    "execution_start": 1668064781563,
    "execution_millis": 11,
    "deepnote_table_state": {
     "sortBy": [],
     "filters": [],
     "pageSize": 10,
     "pageIndex": 3
    },
    "deepnote_table_loading": false,
    "deepnote_to_be_reexecuted": false,
    "deepnote_cell_type": "code"
   },
   "source": "\n#node_df2 = pd.DataFrame(sorted(dict(nx.degree(G)).items()))\n#node_df2.rename(columns={0:\"Node_id\",1:\"Degree\"}, inplace=True)\n#node_df2.to_csv(\"data/node_list_degrees.csv\", index=False)\n",
   "execution_count": null,
   "outputs": []
  },
  {
   "cell_type": "markdown",
   "source": "Here we make a data frame with a count of the degrees. \"k\" is the number of degrees, and \"count\" is how many nodes have that corresponding degree. We make this data frame to help us with the degree distribution.",
   "metadata": {
    "formattedRanges": [],
    "tags": [],
    "cell_id": "ab849ab19bd5445bb9e46e58a39b1a9b",
    "is_collapsed": false,
    "deepnote_cell_type": "text-cell-p"
   }
  },
  {
   "cell_type": "code",
   "metadata": {
    "tags": [],
    "cell_id": "088244794846400ca4aa872e4d279e6a",
    "source_hash": "8bb1ebf0",
    "output_cleared": false,
    "execution_start": 1668064781630,
    "execution_millis": 0,
    "deepnote_table_state": {
     "sortBy": [],
     "filters": [],
     "pageSize": 10,
     "pageIndex": 0
    },
    "deepnote_table_loading": false,
    "deepnote_to_be_reexecuted": false,
    "deepnote_cell_type": "code"
   },
   "source": "node_list_degrees = pd.read_csv(\"data/node_list_degrees.csv\")\n\nnum_degrees = Counter(node_list_degrees[\"Degree\"]) \n\n# Normalising y with the total number of nodes in the network. \n\ndegrees = num_degrees.keys()\ncounts = num_degrees.values()\n\n\npw = pd.DataFrame()\npw[\"k\"] = degrees\npw[\"count\"] = counts\n\nnum_degrees_normalised = {key: value / len(G.nodes) for key, value in num_degrees.items()} \npw['p(k)'] = num_degrees_normalised.values() ",
   "execution_count": null,
   "outputs": []
  },
  {
   "cell_type": "code",
   "metadata": {
    "tags": [],
    "cell_id": "636be57d912242379e4df968b266ba8f",
    "source_hash": "1da0acb1",
    "output_cleared": false,
    "execution_start": 1668064781674,
    "execution_millis": 1136,
    "deepnote_to_be_reexecuted": false,
    "deepnote_cell_type": "code"
   },
   "source": "# plot the degrees against the number of nodes \n\n# With log-scale\n\npw.plot(x = \"k\", y = \"p(k)\", kind = \"scatter\", loglog= True)",
   "execution_count": null,
   "outputs": [
    {
     "name": "stderr",
     "text": "/shared-libs/python3.8/py/lib/python3.8/site-packages/pandas/plotting/_matplotlib/core.py:1041: UserWarning: No data for colormapping provided via 'c'. Parameters 'cmap' will be ignored\n  scatter = ax.scatter(\n",
     "output_type": "stream"
    },
    {
     "output_type": "execute_result",
     "execution_count": 13,
     "data": {
      "text/plain": "<AxesSubplot: xlabel='k', ylabel='p(k)'>"
     },
     "metadata": {}
    },
    {
     "data": {
      "text/plain": "<Figure size 640x480 with 1 Axes>",
      "image/png": "[encoded data removed]"
     },
     "metadata": {
      "image/png": {
       "width": 590,
       "height": 437
      }
     },
     "output_type": "display_data"
    }
   ]
  },
  {
   "cell_type": "code",
   "metadata": {
    "tags": [],
    "cell_id": "935b6e64b3744b63bceef7f4e2ff6557",
    "source_hash": "f9d2e603",
    "output_cleared": false,
    "execution_start": 1668064782185,
    "execution_millis": 630,
    "deepnote_to_be_reexecuted": false,
    "deepnote_cell_type": "code"
   },
   "source": "# without log-scale\n\npw.plot(x = \"k\", y = \"p(k)\", kind = \"scatter\" )",
   "execution_count": null,
   "outputs": [
    {
     "output_type": "execute_result",
     "execution_count": 14,
     "data": {
      "text/plain": "<AxesSubplot: xlabel='k', ylabel='p(k)'>"
     },
     "metadata": {}
    },
    {
     "data": {
      "text/plain": "<Figure size 640x480 with 1 Axes>",
      "image/png": "[encoded data removed]"
     },
     "metadata": {
      "image/png": {
       "width": 576,
       "height": 432
      }
     },
     "output_type": "display_data"
    }
   ]
  },
  {
   "cell_type": "markdown",
   "source": "### The CCDF of the degree distribution (the complement of a cumulative distribution function)\nThe most common way to visualize degrees is by drawing cumulative distributions (CDF)\n\nTo make the CCDF we need to know how many nodes have degree equal to, or higher than a specific value. So we sort the dataframe in descending degree order, so that the pandas cumsum function will calculate that for us. Then we normalize by the total degree sum, so that the count becomes a probability. We then sort in ascending degree value, to respect the convention.",
   "metadata": {
    "tags": [],
    "cell_id": "054f0ef8ecf74867882db25f10201c07",
    "deepnote_cell_type": "markdown"
   }
  },
  {
   "cell_type": "code",
   "metadata": {
    "tags": [],
    "cell_id": "cdfcc3ab810247b9a34e3866d0a123bb",
    "source_hash": "c28c7963",
    "execution_start": 1668064782409,
    "execution_millis": 35,
    "deepnote_to_be_reexecuted": false,
    "deepnote_cell_type": "code"
   },
   "source": "%%script echo skipping\n\nfrom scripts.plots import CCDF\nCCDF(pw)",
   "execution_count": null,
   "outputs": [
    {
     "name": "stdout",
     "text": "skipping\n",
     "output_type": "stream"
    }
   ]
  },
  {
   "cell_type": "markdown",
   "source": "Description of CCDF",
   "metadata": {
    "formattedRanges": [
     {
      "type": "marks",
      "marks": {
       "bold": true
      },
      "toCodePoint": 19,
      "fromCodePoint": 0
     }
    ],
    "tags": [],
    "cell_id": "05cfae3523f440aebb4d5356c7d29ada",
    "is_collapsed": false,
    "deepnote_cell_type": "text-cell-p"
   }
  },
  {
   "cell_type": "markdown",
   "source": "y: the probability of finding a node of degree k or higher",
   "metadata": {
    "formattedRanges": [],
    "tags": [],
    "cell_id": "8bbe7e310b66459a9fd69e73d8427c15",
    "is_collapsed": false,
    "deepnote_cell_type": "text-cell-p"
   }
  },
  {
   "cell_type": "markdown",
   "source": "x: degree",
   "metadata": {
    "formattedRanges": [],
    "tags": [],
    "cell_id": "b586c0eec2194824a407a1d69d5c8704",
    "is_collapsed": false,
    "deepnote_cell_type": "text-cell-p"
   }
  },
  {
   "cell_type": "markdown",
   "source": "### Check for Power-law\n\nMany networks have a power law degree distribution, but rarely this is a pure power law: it is often shifted or truncated. Fitting a power law and finding the correct exponent is tricky and you should not do it using a linear regression.\n\n$p(k) \\sim k^{-\\alpha}$",
   "metadata": {
    "tags": [],
    "cell_id": "60911c2fd0a041a797712eaadd965e89",
    "deepnote_cell_type": "markdown"
   }
  },
  {
   "cell_type": "code",
   "metadata": {
    "tags": [],
    "cell_id": "5a9575fd7b6443fe89cfd392cbaa2fbe",
    "source_hash": "91993a98",
    "execution_start": 1668064782454,
    "execution_millis": 362,
    "deepnote_to_be_reexecuted": false,
    "deepnote_cell_type": "code"
   },
   "source": "from scipy.stats import linregress\nimport numpy as np\nimport powerlaw as pl\n\n\n# define ccdf like in the plot function.\ndd = Counter(dict(G.degree).values()) # dict(degree of node: how many nodes have this degree)\ndd = pd.DataFrame(list(dd.items()), columns = (\"k\", \"count\")).sort_values(by = \"k\")  # make df and sort values by degree, ascending\nccdf = dd.sort_values(by = \"k\", ascending = False) \n#^ sort degree from high to low. \n\n# Now we calculate the cumulative sum of the degrees, in descending order.\n# So the 100% \"chance\" is in the beginning of the plot, as opposite the CDF\nccdf[\"cumsum\"] = ccdf[\"count\"].cumsum()  # cumsum= cumsum of the count of degrees\nccdf[\"ccdf\"] = ccdf[\"cumsum\"] / ccdf[\"count\"].sum() # normalise the cumsum\n# sort the values again by ascentding order, since k is ascending in the x-axis\n# the lowest value of k is the most likely \nccdf = ccdf[[\"k\", \"ccdf\"]].sort_values(by = \"k\") \n\n# We take the logarithm in base 10 of both degree and CCDF. Then we simply do a linear regression. \n# The slope is  the exponent. The intercept needs to be the power of 10, to undo the logarithm operation. \n# Look at that r-squared!\nlogcdf = np.log10(ccdf[[\"k\", \"ccdf\"]])\nslope, log10intercept, r_value, p_value, std_err = linregress(logcdf[\"k\"], logcdf[\"ccdf\"])\nprint(\"CCDF Fit: %1.4f x ^ %1.4f (R2 = %1.4f, p = %1.4f)\" % (10 ** log10intercept, slope, r_value ** 2, p_value))",
   "execution_count": null,
   "outputs": [
    {
     "name": "stdout",
     "text": "CCDF Fit: 8.6089 x ^ -1.8811 (R2 = 0.8639, p = 0.0000)\n",
     "output_type": "stream"
    }
   ]
  },
  {
   "cell_type": "code",
   "metadata": {
    "tags": [],
    "cell_id": "cb2ab69a843f493d91436d78b713e467",
    "source_hash": "fbe72dec",
    "execution_start": 1668064782500,
    "execution_millis": 317,
    "deepnote_to_be_reexecuted": false,
    "deepnote_cell_type": "code"
   },
   "source": "plt.plot(np.log10(ccdf['k']), np.log10(ccdf['ccdf']))",
   "execution_count": null,
   "outputs": [
    {
     "output_type": "execute_result",
     "execution_count": 17,
     "data": {
      "text/plain": "[<matplotlib.lines.Line2D at 0x7f5e54f8e580>]"
     },
     "metadata": {}
    },
    {
     "data": {
      "text/plain": "<Figure size 640x480 with 1 Axes>",
      "image/png": "[encoded data removed]"
     },
     "metadata": {
      "image/png": {
       "width": 573,
       "height": 413
      }
     },
     "output_type": "display_data"
    }
   ]
  },
  {
   "cell_type": "code",
   "metadata": {
    "tags": [],
    "cell_id": "de0c1fb02bd449fdb1bc40fb9cadc2e6",
    "source_hash": "c631c33e",
    "execution_start": 1668066883006,
    "execution_millis": 4,
    "deepnote_to_be_reexecuted": false,
    "deepnote_cell_type": "code"
   },
   "source": "# With the powerlaw package, fitting the CCDf is simple. It will store results in \n# the .power_law property. To get the actual k_min, we need to find the degree value \n# corresponding to the probability in .power_law.xmin:\n# pandas makes it easy. This is definitely a shifted power law. \n# (Kappa contains the intercept information)\n\nresults = pl.Fit(ccdf[\"ccdf\"])\nk_min = ccdf[ccdf[\"ccdf\"] == results.power_law.xmin][\"k\"]\nprint(\"Powerlaw CCDF Fit: %1.4f x ^ -%1.4f (k_min = %d)\" % (10 ** results.power_law.Kappa, results.power_law.alpha, k_min))",
   "execution_count": null,
   "outputs": [
    {
     "output_type": "error",
     "ename": "TypeError",
     "evalue": "'numpy.float64' object is not iterable",
     "traceback": [
      "\u001b[0;31m---------------------------------------------------------------------------\u001b[0m",
      "\u001b[0;31mTypeError\u001b[0m                                 Traceback (most recent call last)",
      "Cell \u001b[0;32mIn [96], line 7\u001b[0m\n\u001b[1;32m      1\u001b[0m \u001b[38;5;66;03m# With the powerlaw package, fitting the CCDf is simple. It will store results in \u001b[39;00m\n\u001b[1;32m      2\u001b[0m \u001b[38;5;66;03m# the .power_law property. To get the actual k_min, we need to find the degree value \u001b[39;00m\n\u001b[1;32m      3\u001b[0m \u001b[38;5;66;03m# corresponding to the probability in .power_law.xmin:\u001b[39;00m\n\u001b[1;32m      4\u001b[0m \u001b[38;5;66;03m# pandas makes it easy. This is definitely a shifted power law. \u001b[39;00m\n\u001b[1;32m      5\u001b[0m \u001b[38;5;66;03m# (Kappa contains the intercept information)\u001b[39;00m\n\u001b[0;32m----> 7\u001b[0m results \u001b[38;5;241m=\u001b[39m pl\u001b[38;5;241m.\u001b[39mFit(ccdf[\u001b[38;5;124m\"\u001b[39m\u001b[38;5;124mccdf\u001b[39m\u001b[38;5;124m\"\u001b[39m], xmin\u001b[38;5;241m=\u001b[39m\u001b[43mresults\u001b[49m\u001b[38;5;241;43m.\u001b[39;49m\u001b[43mfind_xmin\u001b[49m\u001b[43m(\u001b[49m\u001b[43m)\u001b[49m)\n\u001b[1;32m      8\u001b[0m k_min \u001b[38;5;241m=\u001b[39m ccdf[ccdf[\u001b[38;5;124m\"\u001b[39m\u001b[38;5;124mccdf\u001b[39m\u001b[38;5;124m\"\u001b[39m] \u001b[38;5;241m==\u001b[39m results\u001b[38;5;241m.\u001b[39mpower_law\u001b[38;5;241m.\u001b[39mxmin][\u001b[38;5;124m\"\u001b[39m\u001b[38;5;124mk\u001b[39m\u001b[38;5;124m\"\u001b[39m]\n\u001b[1;32m      9\u001b[0m \u001b[38;5;28mprint\u001b[39m(\u001b[38;5;124m\"\u001b[39m\u001b[38;5;124mPowerlaw CCDF Fit: \u001b[39m\u001b[38;5;132;01m%1.4f\u001b[39;00m\u001b[38;5;124m x ^ -\u001b[39m\u001b[38;5;132;01m%1.4f\u001b[39;00m\u001b[38;5;124m (k_min = \u001b[39m\u001b[38;5;132;01m%d\u001b[39;00m\u001b[38;5;124m)\u001b[39m\u001b[38;5;124m\"\u001b[39m \u001b[38;5;241m%\u001b[39m (\u001b[38;5;241m10\u001b[39m \u001b[38;5;241m*\u001b[39m\u001b[38;5;241m*\u001b[39m results\u001b[38;5;241m.\u001b[39mpower_law\u001b[38;5;241m.\u001b[39mKappa, results\u001b[38;5;241m.\u001b[39mpower_law\u001b[38;5;241m.\u001b[39malpha, k_min))\n",
      "File \u001b[0;32m/opt/conda/lib/python3.8/site-packages/powerlaw.py:194\u001b[0m, in \u001b[0;36mFit.find_xmin\u001b[0;34m(self, xmin_distance)\u001b[0m\n\u001b[1;32m    192\u001b[0m     possible_xmins \u001b[38;5;241m=\u001b[39m \u001b[38;5;28mself\u001b[39m\u001b[38;5;241m.\u001b[39mdata\n\u001b[1;32m    193\u001b[0m \u001b[38;5;28;01melse\u001b[39;00m:\n\u001b[0;32m--> 194\u001b[0m     possible_ind \u001b[38;5;241m=\u001b[39m \u001b[38;5;28;43mmin\u001b[39;49m\u001b[43m(\u001b[49m\u001b[38;5;28;43mself\u001b[39;49m\u001b[38;5;241;43m.\u001b[39;49m\u001b[43mgiven_xmin\u001b[49m\u001b[43m)\u001b[49m\u001b[38;5;241m<\u001b[39m\u001b[38;5;241m=\u001b[39m\u001b[38;5;28mself\u001b[39m\u001b[38;5;241m.\u001b[39mdata\n\u001b[1;32m    195\u001b[0m     possible_ind \u001b[38;5;241m*\u001b[39m\u001b[38;5;241m=\u001b[39m \u001b[38;5;28mself\u001b[39m\u001b[38;5;241m.\u001b[39mdata\u001b[38;5;241m<\u001b[39m\u001b[38;5;241m=\u001b[39m\u001b[38;5;28mmax\u001b[39m(\u001b[38;5;28mself\u001b[39m\u001b[38;5;241m.\u001b[39mgiven_xmin)\n\u001b[1;32m    196\u001b[0m     possible_xmins \u001b[38;5;241m=\u001b[39m \u001b[38;5;28mself\u001b[39m\u001b[38;5;241m.\u001b[39mdata[possible_ind]\n",
      "\u001b[0;31mTypeError\u001b[0m: 'numpy.float64' object is not iterable"
     ]
    }
   ]
  },
  {
   "cell_type": "code",
   "metadata": {
    "tags": [],
    "cell_id": "2110d28f5f7340528dc8978637f74959",
    "source_hash": "a1736495",
    "execution_start": 1668065903639,
    "execution_millis": 507,
    "deepnote_to_be_reexecuted": false,
    "deepnote_cell_type": "code"
   },
   "source": "from scipy.stats import powerlaw\nprint(powerlaw.fit(ccdf['ccdf']))\nprint(results.power_law.alpha)",
   "execution_count": null,
   "outputs": [
    {
     "name": "stdout",
     "text": "(0.23726641528943537, 0.0001907668828691339, 1.0378376800555995)\n1.7803642425668489\n",
     "output_type": "stream"
    }
   ]
  },
  {
   "cell_type": "code",
   "metadata": {
    "tags": [],
    "cell_id": "88d8bc1ce88645a7a7b9035f9a65a82e",
    "source_hash": "e90822b2",
    "execution_start": 1668065959359,
    "execution_millis": 1,
    "deepnote_to_be_reexecuted": false,
    "deepnote_cell_type": "code"
   },
   "source": "k_min # the degree with the lowest probability. Aka one of the highest degrees.",
   "execution_count": null,
   "outputs": [
    {
     "output_type": "execute_result",
     "execution_count": 72,
     "data": {
      "text/plain": "43    34\nName: k, dtype: int64"
     },
     "metadata": {}
    }
   ]
  },
  {
   "cell_type": "code",
   "metadata": {
    "tags": [],
    "cell_id": "c600ad718a06427ab00ba4edfe6a335f",
    "source_hash": "38617ff",
    "execution_start": 1668066859181,
    "execution_millis": 479,
    "deepnote_to_be_reexecuted": false,
    "deepnote_cell_type": "code"
   },
   "source": "results = pl.Fit(ccdf['ccdf'])\nprint(results.power_law.alpha)\nprint(results.power_law.xmin)\nR, p = results.distribution_compare('power_law', 'lognormal')",
   "execution_count": null,
   "outputs": [
    {
     "name": "stdout",
     "text": "1.7803642425668489\n0.022892025944296072\n/opt/conda/lib/python3.8/site-packages/powerlaw.py:699: RuntimeWarning: invalid value encountered in divide\n  (CDF_diff**2) /\n",
     "output_type": "stream"
    }
   ]
  },
  {
   "cell_type": "code",
   "metadata": {
    "tags": [],
    "cell_id": "592eceef0a3a450486043547fb2b5e1b",
    "source_hash": "38afbb36",
    "execution_start": 1668066861976,
    "execution_millis": 1285,
    "deepnote_to_be_reexecuted": false,
    "deepnote_cell_type": "code"
   },
   "source": "#%%script echo skipping\n# Let's plot the best fit.\nccdf[\"fit\"] = (10 ** results.power_law.Kappa) * (ccdf[\"k\"] ** -results.power_law.alpha)\nax = plt.gca()\nccdf.plot(kind = \"line\", x = \"k\", y = \"ccdf\", color = \"#e41a1c\", loglog = True, ax = ax)\nccdf.plot(kind = \"line\", x = \"k\", y = \"fit\", color = \"#377eb8\", loglog = True, ax = ax)\nplt.savefig(\"ccdf_fit.png\")",
   "execution_count": null,
   "outputs": [
    {
     "data": {
      "text/plain": "<Figure size 640x480 with 1 Axes>",
      "image/png": "[encoded data removed]"
     },
     "metadata": {
      "image/png": {
       "width": 570,
       "height": 437
      }
     },
     "output_type": "display_data"
    }
   ]
  },
  {
   "cell_type": "code",
   "metadata": {
    "tags": [],
    "cell_id": "c8c97d28670244428a5386678b313afc",
    "source_hash": "65669eb",
    "execution_start": 1668064783782,
    "execution_millis": 6,
    "deepnote_to_be_reexecuted": false,
    "deepnote_cell_type": "code"
   },
   "source": "print(slope)",
   "execution_count": null,
   "outputs": [
    {
     "name": "stdout",
     "text": "-1.8810900986395\n",
     "output_type": "stream"
    }
   ]
  },
  {
   "cell_type": "markdown",
   "source": "### Graph Density\nThe density of a graph is the ratio of observed edges to the number of possible edges for a network. In a graph that has 3 nodes, where all of them is connected, we would then expect $3 \\cdot 2/2 = 3$ edges, and that is what we have. Its density is the maximum possible: 100%.\n\nAnother explanation count be, the number of edges in a network over the total possible number of edges that can exist given the number of nodes.\n\nOur network/graph is undirected, so the formula we will use to calculate this is:\n\n$d = \\frac{2 \\cdot |E|}{|V| \\cdot  (|V| - 1)}$. We will calculate both ways, by using the formula, and by using the Network X function for density `density()`.\n\nThe density for a graph would be 0 if there are none edges, and the density for a graph would be 1 if the graph is complete. Meaning that if all the nodes was multiplied by itself, minus 1 node, then the graph would be complete and have a density of 1.",
   "metadata": {
    "tags": [],
    "cell_id": "b634c2a2ef0e49dd98d1ee7f670f627f",
    "deepnote_cell_type": "markdown"
   }
  },
  {
   "cell_type": "markdown",
   "source": "We would expect a very low density, since real world networks are very sparse. The density of a network\n goes down as you increase the number of nodes, which makes sense, since the denominator of the density formula grows quadratically.",
   "metadata": {
    "formattedRanges": [],
    "tags": [],
    "cell_id": "84ff48ac1e6d4c6cbd5ed25b2ee0060f",
    "is_collapsed": false,
    "deepnote_cell_type": "text-cell-p"
   }
  },
  {
   "cell_type": "code",
   "metadata": {
    "tags": [],
    "cell_id": "0a6f243c03f9483ab920d671efa28b1c",
    "source_hash": "d8299d3b",
    "execution_start": 1668064783784,
    "execution_millis": 4,
    "deepnote_to_be_reexecuted": false,
    "deepnote_cell_type": "code"
   },
   "source": "def number_of_nodes(G):\n# This will return the number of nodes\n    return G.number_of_nodes()\n\ndef number_of_edges(G):\n# This will return the number of edges\n    return G.number_of_edges()\n\ndef density(G):\n# We define the number of nodes and edges of the graph\n    n = number_of_nodes(G)\n    m = number_of_edges(G)\n# We make an if-statement: if edge is 0 or node is less than or equal to 1, we return the number 0, meaning there is no edge.\n    if m == 0 or n <= 1:\n        return 0\n# We then calculate the density, using the formula for a directed graph.\n    d = m / (n * (n - 1))\n\n# We make an if-statement: if the graph is NOT directed (which ours isn't) we will multiply the density with 2 (due to undirectedness)\n    if not G.is_directed():\n        d *= 2\n        return d\n\n# Graph density with networkx\nprint(f'This is the density of an undirected graph, calculated using the NetworkX function: {nx.density(G)}')",
   "execution_count": null,
   "outputs": [
    {
     "name": "stdout",
     "text": "This is the density of an undirected graph, calculated using the NetworkX function: 0.001055278280507905\n",
     "output_type": "stream"
    }
   ]
  },
  {
   "cell_type": "markdown",
   "source": "### Result for density\nThis number means that the graph is very sparse. The closer to 0, the less connected the graph is, and the closer to 1, the more complete the graph is. Our result is $0.0.00106...$ meaning our graph is not that connected/dense.",
   "metadata": {
    "tags": [],
    "cell_id": "94944f96fc354e77a7ddedf6310de8fa",
    "deepnote_cell_type": "markdown"
   }
  },
  {
   "cell_type": "code",
   "metadata": {
    "tags": [],
    "cell_id": "0026c41e27ed4acfbe9468366c129fe1",
    "source_hash": "c59ebb5a",
    "execution_start": 1668064783785,
    "execution_millis": 367,
    "deepnote_to_be_reexecuted": false,
    "deepnote_cell_type": "code"
   },
   "source": "#Clustering (triangles)\n\nclustering_dict=nx.triangles(G) #This is the dictionary for clustering for the undirected graph\n\nprint(clustering_dict)",
   "execution_count": null,
   "outputs": [
    {
     "name": "stdout",
     "text": "{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}\n",
     "output_type": "stream"
    }
   ]
  },
  {
   "cell_type": "markdown",
   "source": "## Node Ranking",
   "metadata": {
    "formattedRanges": [],
    "tags": [],
    "cell_id": "3cf98323751947ba8b9c4fb1c5758a8a",
    "is_collapsed": false,
    "deepnote_cell_type": "text-cell-h2"
   }
  },
  {
   "cell_type": "markdown",
   "source": "### Closeness Centrality",
   "metadata": {
    "formattedRanges": [],
    "tags": [],
    "cell_id": "d336611ef0bb4d60bfbe3646ee3be836",
    "is_collapsed": false,
    "deepnote_cell_type": "text-cell-h3"
   }
  },
  {
   "cell_type": "markdown",
   "source": "The closeness centrality of a node $v$, is all the shortest paths starting from that node to every possible destination in the network. Each of these paths has a length $(|P_{uv}|)$. We sum these lengths and average that value over the number of all possible destinations (which is the number of nodes in the network minus one)\n\nCloseness centrality measures how short the shortest paths are from node i to all nodes.\n\n $\\text{Closeness Centrality} = \\frac{(|V| -1)}{\\sum_{u} |P_{uv}|}$",
   "metadata": {
    "tags": [],
    "cell_id": "57ddbab650464e91a5171fa6b630538a",
    "deepnote_cell_type": "markdown"
   }
  },
  {
   "cell_type": "code",
   "metadata": {
    "tags": [],
    "cell_id": "42bc3dd975894920ac1c41148b7e7b65",
    "source_hash": "e9bd0a59",
    "execution_start": 1668064784017,
    "execution_millis": 136,
    "deepnote_to_be_reexecuted": false,
    "deepnote_cell_type": "code"
   },
   "source": "%%script echo Skipping!\ncloseness_centrality_dict = nx.closeness_centrality(G)",
   "execution_count": null,
   "outputs": [
    {
     "name": "stdout",
     "text": "Skipping!\n",
     "output_type": "stream"
    }
   ]
  },
  {
   "cell_type": "code",
   "metadata": {
    "tags": [],
    "cell_id": "eb5f8412f0f242b3b7b243fae70f622d",
    "source_hash": "71995eca",
    "execution_start": 1668064784022,
    "execution_millis": 1,
    "deepnote_to_be_reexecuted": false,
    "deepnote_cell_type": "code"
   },
   "source": "# closeness_centrality_dict",
   "execution_count": null,
   "outputs": []
  },
  {
   "cell_type": "markdown",
   "source": "### Betweenness Centrality\nDifferently from closeness, with betweenness we are not counting distances, but paths. If we want to know the betweenness of node $v$, we count the number of paths passing through $v$ - but of which $v$ is neither an origin nor a destination.\nThe betweenness of an edge is the (normalised) count of shortest paths using the edge.\n\nThe more shortest paths that passes through you, the more important you are.",
   "metadata": {
    "tags": [],
    "cell_id": "590cadae24104ff1bae62731ccc10992",
    "deepnote_cell_type": "markdown"
   }
  },
  {
   "cell_type": "code",
   "metadata": {
    "tags": [],
    "cell_id": "8be6de39bb0e4a659c4762128aee49ee",
    "source_hash": "7ade035",
    "execution_start": 1668064784024,
    "execution_millis": 131,
    "deepnote_to_be_reexecuted": false,
    "deepnote_cell_type": "code"
   },
   "source": "%%script echo Skipping!\nbetweenness_centrality_dict = nx.betweenness_centrality(G)",
   "execution_count": null,
   "outputs": [
    {
     "name": "stdout",
     "text": "Skipping!\n",
     "output_type": "stream"
    }
   ]
  },
  {
   "cell_type": "code",
   "metadata": {
    "tags": [],
    "cell_id": "831dbb30223c4d2084ac50ec954f745b",
    "source_hash": "420c1626",
    "execution_start": 1668064784037,
    "execution_millis": 603,
    "deepnote_to_be_reexecuted": false,
    "deepnote_cell_type": "code"
   },
   "source": "%%script echo Skipping!\nbetweenness_centrality_df = pd.DataFrame(betweenness_centrality_dict.items(), columns = (\"node_id\", \"betweeness\")).sort_values(by = \"node_id\")\n#betweenness_centrality_df.columns = ['node_id', 'betweenness_centrality']\nbetweenness_centrality_df.head()\n\n\n\n",
   "execution_count": null,
   "outputs": [
    {
     "output_type": "error",
     "ename": "NameError",
     "evalue": "name 'betweenness_centrality_dict' is not defined",
     "traceback": [
      "\u001b[0;31m---------------------------------------------------------------------------\u001b[0m",
      "\u001b[0;31mNameError\u001b[0m                                 Traceback (most recent call last)",
      "Cell \u001b[0;32mIn [29], line 1\u001b[0m\n\u001b[0;32m----> 1\u001b[0m betweenness_centrality_df \u001b[38;5;241m=\u001b[39m pd\u001b[38;5;241m.\u001b[39mDataFrame(\u001b[43mbetweenness_centrality_dict\u001b[49m\u001b[38;5;241m.\u001b[39mitems(), columns \u001b[38;5;241m=\u001b[39m (\u001b[38;5;124m\"\u001b[39m\u001b[38;5;124mnode_id\u001b[39m\u001b[38;5;124m\"\u001b[39m, \u001b[38;5;124m\"\u001b[39m\u001b[38;5;124mbetweeness\u001b[39m\u001b[38;5;124m\"\u001b[39m))\u001b[38;5;241m.\u001b[39msort_values(by \u001b[38;5;241m=\u001b[39m \u001b[38;5;124m\"\u001b[39m\u001b[38;5;124mnode_id\u001b[39m\u001b[38;5;124m\"\u001b[39m)\n\u001b[1;32m      2\u001b[0m \u001b[38;5;66;03m#betweenness_centrality_df.columns = ['node_id', 'betweenness_centrality']\u001b[39;00m\n\u001b[1;32m      3\u001b[0m betweenness_centrality_df\u001b[38;5;241m.\u001b[39mhead()\n",
      "\u001b[0;31mNameError\u001b[0m: name 'betweenness_centrality_dict' is not defined"
     ]
    }
   ]
  },
  {
   "cell_type": "code",
   "metadata": {
    "tags": [],
    "cell_id": "a3c9857d2c944424bb0020dd8a12655e",
    "source_hash": "f75e21a1",
    "execution_start": 1667123799030,
    "execution_millis": 23,
    "deepnote_to_be_reexecuted": true,
    "deepnote_cell_type": "code"
   },
   "source": "betweenness_centrality_df.to_csv(\"data/betweenness_centrality.csv\", index=False)\nbetweenness_df = pd.read_csv(\"data/betweenness_centrality.csv\")",
   "execution_count": null,
   "outputs": []
  },
  {
   "cell_type": "markdown",
   "source": "### Reach Centrality\n\nThe local reach centrality of a node v is the fraction of nodes in a network that you can reach starting from $v$.\n\nMaybe not relevant",
   "metadata": {
    "tags": [],
    "cell_id": "2fad6b194ce3429c9b5fd47355cf8310",
    "deepnote_cell_type": "markdown"
   }
  },
  {
   "cell_type": "code",
   "metadata": {
    "tags": [],
    "cell_id": "ce5f38a1ba4e4e23a870f8f272cef9b0",
    "source_hash": "b623e53d",
    "execution_start": 1665658617598,
    "execution_millis": 1,
    "deepnote_to_be_reexecuted": true,
    "deepnote_cell_type": "code"
   },
   "source": "",
   "execution_count": null,
   "outputs": []
  },
  {
   "cell_type": "markdown",
   "source": "## Average path length",
   "metadata": {
    "formattedRanges": [],
    "tags": [],
    "cell_id": "ce5cc8d29b59446cb8ef361d5a4549ce",
    "is_collapsed": false,
    "deepnote_cell_type": "text-cell-h2"
   }
  },
  {
   "cell_type": "markdown",
   "source": "Here we find the avearge shorests path length. We are also working on a dist. of the shoreste paths length.",
   "metadata": {
    "formattedRanges": [],
    "tags": [],
    "cell_id": "fac6968bf9d74a2f9ba50ea66b518e99",
    "is_collapsed": false,
    "deepnote_cell_type": "text-cell-p"
   }
  },
  {
   "cell_type": "code",
   "metadata": {
    "tags": [],
    "cell_id": "6abbf253817f4ceab16147fd2286541c",
    "source_hash": "ff9f189c",
    "execution_start": 1665658643214,
    "execution_millis": 81,
    "deepnote_to_be_reexecuted": true,
    "deepnote_cell_type": "code"
   },
   "source": "%%script echo skipping\nnx.average_shortest_path_length(G)\n",
   "execution_count": null,
   "outputs": [
    {
     "name": "stdout",
     "text": "skipping\n",
     "output_type": "stream"
    }
   ]
  },
  {
   "cell_type": "markdown",
   "source": "# Link predictions",
   "metadata": {
    "formattedRanges": [],
    "tags": [],
    "cell_id": "3008defd24274f15903fa4f5dfbd2eff",
    "is_collapsed": false,
    "deepnote_cell_type": "text-cell-h1"
   }
  },
  {
   "cell_type": "markdown",
   "source": "## Preferential attachment",
   "metadata": {
    "formattedRanges": [],
    "tags": [],
    "cell_id": "70e0c30eb0d941749e0443355b8af763",
    "is_collapsed": false,
    "deepnote_cell_type": "text-cell-h2"
   }
  },
  {
   "cell_type": "code",
   "metadata": {
    "cell_id": "74368a09a5ba42888ab0d664573ab6f8",
    "tags": [],
    "deepnote_to_be_reexecuted": true,
    "source_hash": "e6042448",
    "execution_start": 1667480975737,
    "execution_millis": 18,
    "deepnote_cell_type": "code"
   },
   "source": "node_df.head()",
   "execution_count": null,
   "outputs": [
    {
     "output_type": "execute_result",
     "execution_count": 32,
     "data": {
      "application/vnd.deepnote.dataframe.v3+json": {
       "column_count": 2,
       "row_count": 5,
       "columns": [
        {
         "name": "# index",
         "dtype": "int64",
         "stats": {
          "unique_count": 5,
          "nan_count": 0,
          "min": "0",
          "max": "4",
          "histogram": [
           {
            "bin_start": 0,
            "bin_end": 0.4,
            "count": 1
           },
           {
            "bin_start": 0.4,
            "bin_end": 0.8,
            "count": 0
           },
           {
            "bin_start": 0.8,
            "bin_end": 1.2000000000000002,
            "count": 1
           },
           {
            "bin_start": 1.2000000000000002,
            "bin_end": 1.6,
            "count": 0
           },
           {
            "bin_start": 1.6,
            "bin_end": 2,
            "count": 0
           },
           {
            "bin_start": 2,
            "bin_end": 2.4000000000000004,
            "count": 1
           },
           {
            "bin_start": 2.4000000000000004,
            "bin_end": 2.8000000000000003,
            "count": 0
           },
           {
            "bin_start": 2.8000000000000003,
            "bin_end": 3.2,
            "count": 1
           },
           {
            "bin_start": 3.2,
            "bin_end": 3.6,
            "count": 0
           },
           {
            "bin_start": 3.6,
            "bin_end": 4,
            "count": 1
           }
          ]
         }
        },
        {
         "name": " _pos",
         "dtype": "object",
         "stats": {
          "unique_count": 5,
          "nan_count": 0,
          "categories": [
           {
            "name": "array([ -809.28510846, -7254.04850664])",
            "count": 1
           },
           {
            "name": "array([ 4029.69552082, -1218.07574043])",
            "count": 1
           },
           {
            "name": "3 others",
            "count": 3
           }
          ]
         }
        },
        {
         "name": "_deepnote_index_column",
         "dtype": "int64"
        }
       ],
       "rows": [
        {
         "# index": "0",
         " _pos": "array([ -809.28510846, -7254.04850664])",
         "_deepnote_index_column": "0"
        },
        {
         "# index": "1",
         " _pos": "array([ 4029.69552082, -1218.07574043])",
         "_deepnote_index_column": "1"
        },
        {
         "# index": "2",
         " _pos": "array([ 5958.81175081, -2677.45588816])",
         "_deepnote_index_column": "2"
        },
        {
         "# index": "3",
         " _pos": "array([4434.04478489, -266.39283163])",
         "_deepnote_index_column": "3"
        },
        {
         "# index": "4",
         " _pos": "array([-3387.77930156,  2108.09576196])",
         "_deepnote_index_column": "4"
        }
       ]
      },
      "text/plain": "   # index                                     _pos\n0        0  array([ -809.28510846, -7254.04850664])\n1        1  array([ 4029.69552082, -1218.07574043])\n2        2  array([ 5958.81175081, -2677.45588816])\n3        3    array([4434.04478489, -266.39283163])\n4        4  array([-3387.77930156,  2108.09576196])",
      "text/html": "<div>\n<style scoped>\n    .dataframe tbody tr th:only-of-type {\n        vertical-align: middle;\n    }\n\n    .dataframe tbody tr th {\n        vertical-align: top;\n    }\n\n    .dataframe thead th {\n        text-align: right;\n    }\n</style>\n<table border=\"1\" class=\"dataframe\">\n  <thead>\n    <tr style=\"text-align: right;\">\n      <th></th>\n      <th># index</th>\n      <th>_pos</th>\n    </tr>\n  </thead>\n  <tbody>\n    <tr>\n      <th>0</th>\n      <td>0</td>\n      <td>array([ -809.28510846, -7254.04850664])</td>\n    </tr>\n    <tr>\n      <th>1</th>\n      <td>1</td>\n      <td>array([ 4029.69552082, -1218.07574043])</td>\n    </tr>\n    <tr>\n      <th>2</th>\n      <td>2</td>\n      <td>array([ 5958.81175081, -2677.45588816])</td>\n    </tr>\n    <tr>\n      <th>3</th>\n      <td>3</td>\n      <td>array([4434.04478489, -266.39283163])</td>\n    </tr>\n    <tr>\n      <th>4</th>\n      <td>4</td>\n      <td>array([-3387.77930156,  2108.09576196])</td>\n    </tr>\n  </tbody>\n</table>\n</div>"
     },
     "metadata": {}
    }
   ]
  },
  {
   "cell_type": "code",
   "metadata": {
    "cell_id": "75cf5d7d553d4217b3d7085596231006",
    "tags": [],
    "deepnote_to_be_reexecuted": true,
    "source_hash": "2433626c",
    "execution_start": 1667485161635,
    "execution_millis": 22811,
    "deepnote_cell_type": "code"
   },
   "source": "%%script echo Skipping!\n# We define a function called pref_attachment\ndef pref_attachment(graph, n):\n    # We use the preferential attachment documentation from networkx\n    linkpred_pa = list(nx.preferential_attachment(G))\n    # Now we sort in decreasing score\n    linkpred_pa.sort(key = lambda tup: tup[2], reverse = True)\n    # We make a for-loop for the link predictions between the nodes\n    for u, v, p in linkpred_pa[:n]:\n        # We normalize the scores using the G.number_of_nodes\n        score = p * (1 / (2 * G.number_of_nodes()))\n        print(f\"({u}, {v}) -> {score:.3f}\")\n\n    plt.hist(score, bins=50)\n    plt.show()\n    \n# We run the function\npref_attachment(G, 50)",
   "execution_count": null,
   "outputs": [
    {
     "name": "stdout",
     "text": "(15244, 21012) -> 0.456\n(15244, 21281) -> 0.445\n(12365, 15244) -> 0.433\n(15244, 22691) -> 0.433\n(6610, 15244) -> 0.383\n(9785, 15244) -> 0.383\n(6512, 21012) -> 0.379\n(15244, 21508) -> 0.377\n(15244, 17655) -> 0.371\n(6512, 21281) -> 0.369\n",
     "output_type": "stream"
    },
    {
     "data": {
      "text/plain": "<Figure size 640x480 with 1 Axes>",
      "image/png": "[encoded data removed]"
     },
     "metadata": {
      "image/png": {
       "width": 547,
       "height": 413
      }
     },
     "output_type": "display_data"
    }
   ]
  },
  {
   "cell_type": "markdown",
   "source": "The result we get is the score of possible edges between nodes that don't have that specific edge between them. SO the bigger the degree of a certain node is, the higher the possibility of an edge appearing between those two nodes. ",
   "metadata": {
    "cell_id": "5b7da892dcd64ca29680e47f7dc2ffb6",
    "tags": [],
    "deepnote_cell_type": "markdown"
   }
  },
  {
   "cell_type": "markdown",
   "source": "## Adamic-Adar",
   "metadata": {
    "formattedRanges": [],
    "is_collapsed": false,
    "cell_id": "f96bb0dfe00b4bceaf2fd7f8fceb12cc",
    "tags": [],
    "deepnote_cell_type": "text-cell-h2"
   }
  },
  {
   "cell_type": "code",
   "metadata": {
    "cell_id": "9eb121b7eb39464dacfb4c3b6dfbe696",
    "tags": [],
    "deepnote_to_be_reexecuted": true,
    "source_hash": "9d672e15",
    "execution_start": 1667485210274,
    "execution_millis": 51549,
    "deepnote_cell_type": "code"
   },
   "source": "%%script echo Skipping!\ndef adamic_adar(graph, top_n):\n    linkpred_aa = list(nx.adamic_adar_index(graph))\n    # Sort in decreasing score\n    linkpred_aa.sort(key = lambda tup: tup[2], reverse = True)\n    for u, v, p in linkpred_aa[:top_n]:\n        print(f\"({u}, {v}) -> {p:.8f}\")\n\n    plt.hist(p, bins=50)\n    plt.show()\n\nadamic_adar(G, 5)",
   "execution_count": null,
   "outputs": [
    {
     "output_type": "error",
     "ename": "KeyboardInterrupt",
     "evalue": "",
     "traceback": [
      "\u001b[0;31m---------------------------------------------------------------------------\u001b[0m",
      "\u001b[0;31mKeyboardInterrupt\u001b[0m                         Traceback (most recent call last)",
      "Cell \u001b[0;32mIn [90], line 11\u001b[0m\n\u001b[1;32m      8\u001b[0m     plt\u001b[38;5;241m.\u001b[39mhist(p, bins\u001b[38;5;241m=\u001b[39m\u001b[38;5;241m50\u001b[39m)\n\u001b[1;32m      9\u001b[0m     plt\u001b[38;5;241m.\u001b[39mshow()\n\u001b[0;32m---> 11\u001b[0m \u001b[43madamic_adar\u001b[49m\u001b[43m(\u001b[49m\u001b[43mG\u001b[49m\u001b[43m,\u001b[49m\u001b[43m \u001b[49m\u001b[38;5;241;43m5\u001b[39;49m\u001b[43m)\u001b[49m\n",
      "Cell \u001b[0;32mIn [90], line 2\u001b[0m, in \u001b[0;36madamic_adar\u001b[0;34m(graph, top_n)\u001b[0m\n\u001b[1;32m      1\u001b[0m \u001b[38;5;28;01mdef\u001b[39;00m \u001b[38;5;21madamic_adar\u001b[39m(graph, top_n):\n\u001b[0;32m----> 2\u001b[0m     linkpred_aa \u001b[38;5;241m=\u001b[39m \u001b[38;5;28;43mlist\u001b[39;49m\u001b[43m(\u001b[49m\u001b[43mnx\u001b[49m\u001b[38;5;241;43m.\u001b[39;49m\u001b[43madamic_adar_index\u001b[49m\u001b[43m(\u001b[49m\u001b[43mgraph\u001b[49m\u001b[43m)\u001b[49m\u001b[43m)\u001b[49m\n\u001b[1;32m      3\u001b[0m     \u001b[38;5;66;03m# Sort in decreasing score\u001b[39;00m\n\u001b[1;32m      4\u001b[0m     linkpred_aa\u001b[38;5;241m.\u001b[39msort(key \u001b[38;5;241m=\u001b[39m \u001b[38;5;28;01mlambda\u001b[39;00m tup: tup[\u001b[38;5;241m2\u001b[39m], reverse \u001b[38;5;241m=\u001b[39m \u001b[38;5;28;01mTrue\u001b[39;00m)\n",
      "File \u001b[0;32m/opt/conda/lib/python3.8/site-packages/networkx/algorithms/link_prediction.py:40\u001b[0m, in \u001b[0;36m<genexpr>\u001b[0;34m(.0)\u001b[0m\n\u001b[1;32m     38\u001b[0m \u001b[38;5;28;01mif\u001b[39;00m ebunch \u001b[38;5;129;01mis\u001b[39;00m \u001b[38;5;28;01mNone\u001b[39;00m:\n\u001b[1;32m     39\u001b[0m     ebunch \u001b[38;5;241m=\u001b[39m nx\u001b[38;5;241m.\u001b[39mnon_edges(G)\n\u001b[0;32m---> 40\u001b[0m \u001b[38;5;28;01mreturn\u001b[39;00m ((u, v, \u001b[43mfunc\u001b[49m\u001b[43m(\u001b[49m\u001b[43mu\u001b[49m\u001b[43m,\u001b[49m\u001b[43m \u001b[49m\u001b[43mv\u001b[49m\u001b[43m)\u001b[49m) \u001b[38;5;28;01mfor\u001b[39;00m u, v \u001b[38;5;129;01min\u001b[39;00m ebunch)\n",
      "File \u001b[0;32m/opt/conda/lib/python3.8/site-packages/networkx/algorithms/link_prediction.py:203\u001b[0m, in \u001b[0;36madamic_adar_index.<locals>.predict\u001b[0;34m(u, v)\u001b[0m\n\u001b[1;32m    202\u001b[0m \u001b[38;5;28;01mdef\u001b[39;00m \u001b[38;5;21mpredict\u001b[39m(u, v):\n\u001b[0;32m--> 203\u001b[0m     \u001b[38;5;28;01mreturn\u001b[39;00m \u001b[38;5;28;43msum\u001b[39;49m\u001b[43m(\u001b[49m\u001b[38;5;241;43m1\u001b[39;49m\u001b[43m \u001b[49m\u001b[38;5;241;43m/\u001b[39;49m\u001b[43m \u001b[49m\u001b[43mlog\u001b[49m\u001b[43m(\u001b[49m\u001b[43mG\u001b[49m\u001b[38;5;241;43m.\u001b[39;49m\u001b[43mdegree\u001b[49m\u001b[43m(\u001b[49m\u001b[43mw\u001b[49m\u001b[43m)\u001b[49m\u001b[43m)\u001b[49m\u001b[43m \u001b[49m\u001b[38;5;28;43;01mfor\u001b[39;49;00m\u001b[43m \u001b[49m\u001b[43mw\u001b[49m\u001b[43m \u001b[49m\u001b[38;5;129;43;01min\u001b[39;49;00m\u001b[43m \u001b[49m\u001b[43mnx\u001b[49m\u001b[38;5;241;43m.\u001b[39;49m\u001b[43mcommon_neighbors\u001b[49m\u001b[43m(\u001b[49m\u001b[43mG\u001b[49m\u001b[43m,\u001b[49m\u001b[43m \u001b[49m\u001b[43mu\u001b[49m\u001b[43m,\u001b[49m\u001b[43m \u001b[49m\u001b[43mv\u001b[49m\u001b[43m)\u001b[49m\u001b[43m)\u001b[49m\n",
      "File \u001b[0;32m/opt/conda/lib/python3.8/site-packages/networkx/algorithms/link_prediction.py:203\u001b[0m, in \u001b[0;36m<genexpr>\u001b[0;34m(.0)\u001b[0m\n\u001b[1;32m    202\u001b[0m \u001b[38;5;28;01mdef\u001b[39;00m \u001b[38;5;21mpredict\u001b[39m(u, v):\n\u001b[0;32m--> 203\u001b[0m     \u001b[38;5;28;01mreturn\u001b[39;00m \u001b[38;5;28msum\u001b[39m(\u001b[38;5;241m1\u001b[39m \u001b[38;5;241m/\u001b[39m log(G\u001b[38;5;241m.\u001b[39mdegree(w)) \u001b[38;5;28;01mfor\u001b[39;00m w \u001b[38;5;129;01min\u001b[39;00m nx\u001b[38;5;241m.\u001b[39mcommon_neighbors(G, u, v))\n",
      "File \u001b[0;32m/opt/conda/lib/python3.8/site-packages/networkx/classes/function.py:970\u001b[0m, in \u001b[0;36m<genexpr>\u001b[0;34m(.0)\u001b[0m\n\u001b[1;32m    966\u001b[0m     \u001b[38;5;28;01mraise\u001b[39;00m nx\u001b[38;5;241m.\u001b[39mNetworkXError(\u001b[38;5;124m\"\u001b[39m\u001b[38;5;124mv is not in the graph.\u001b[39m\u001b[38;5;124m\"\u001b[39m)\n\u001b[1;32m    968\u001b[0m \u001b[38;5;66;03m# Return a generator explicitly instead of yielding so that the above\u001b[39;00m\n\u001b[1;32m    969\u001b[0m \u001b[38;5;66;03m# checks are executed eagerly.\u001b[39;00m\n\u001b[0;32m--> 970\u001b[0m \u001b[38;5;28;01mreturn\u001b[39;00m (w \u001b[38;5;28;01mfor\u001b[39;00m w \u001b[38;5;129;01min\u001b[39;00m G[u] \u001b[38;5;28;01mif\u001b[39;00m w \u001b[38;5;129;01min\u001b[39;00m \u001b[43mG\u001b[49m\u001b[43m[\u001b[49m\u001b[43mv\u001b[49m\u001b[43m]\u001b[49m \u001b[38;5;129;01mand\u001b[39;00m w \u001b[38;5;129;01mnot\u001b[39;00m \u001b[38;5;129;01min\u001b[39;00m (u, v))\n",
      "File \u001b[0;32m/opt/conda/lib/python3.8/site-packages/networkx/classes/graph.py:517\u001b[0m, in \u001b[0;36mGraph.__getitem__\u001b[0;34m(self, n)\u001b[0m\n\u001b[1;32m    493\u001b[0m \u001b[38;5;28;01mdef\u001b[39;00m \u001b[38;5;21m__getitem__\u001b[39m(\u001b[38;5;28mself\u001b[39m, n):\n\u001b[1;32m    494\u001b[0m     \u001b[38;5;124;03m\"\"\"Returns a dict of neighbors of node n.  Use: 'G[n]'.\u001b[39;00m\n\u001b[1;32m    495\u001b[0m \n\u001b[1;32m    496\u001b[0m \u001b[38;5;124;03m    Parameters\u001b[39;00m\n\u001b[0;32m   (...)\u001b[0m\n\u001b[1;32m    515\u001b[0m \u001b[38;5;124;03m    AtlasView({1: {}})\u001b[39;00m\n\u001b[1;32m    516\u001b[0m \u001b[38;5;124;03m    \"\"\"\u001b[39;00m\n\u001b[0;32m--> 517\u001b[0m     \u001b[38;5;28;01mreturn\u001b[39;00m \u001b[38;5;28;43mself\u001b[39;49m\u001b[38;5;241;43m.\u001b[39;49m\u001b[43madj\u001b[49m\u001b[43m[\u001b[49m\u001b[43mn\u001b[49m\u001b[43m]\u001b[49m\n",
      "File \u001b[0;32m/opt/conda/lib/python3.8/site-packages/networkx/classes/coreviews.py:82\u001b[0m, in \u001b[0;36mAdjacencyView.__getitem__\u001b[0;34m(self, name)\u001b[0m\n\u001b[1;32m     81\u001b[0m \u001b[38;5;28;01mdef\u001b[39;00m \u001b[38;5;21m__getitem__\u001b[39m(\u001b[38;5;28mself\u001b[39m, name):\n\u001b[0;32m---> 82\u001b[0m     \u001b[38;5;28;01mreturn\u001b[39;00m \u001b[43mAtlasView\u001b[49m\u001b[43m(\u001b[49m\u001b[38;5;28;43mself\u001b[39;49m\u001b[38;5;241;43m.\u001b[39;49m\u001b[43m_atlas\u001b[49m\u001b[43m[\u001b[49m\u001b[43mname\u001b[49m\u001b[43m]\u001b[49m\u001b[43m)\u001b[49m\n",
      "\u001b[0;31mKeyboardInterrupt\u001b[0m: "
     ]
    }
   ]
  },
  {
   "cell_type": "markdown",
   "source": "In Adamic-Adar (AA) we say that common neighbors are important, but the hubs contribute less to the link prediction than two common neighbors with no other links, because the hubs do not have enough bandwidth to make the introduction\nThe formula says that, for each common neighbor, instead of counting one – as we do in Common Neighbor when we look at the intersection –, we count one over the common neighbor’s degree (log-transformed).",
   "metadata": {
    "formattedRanges": [],
    "is_collapsed": false,
    "cell_id": "4c18a5748931474084ce90d0dcc557e0",
    "tags": [],
    "deepnote_cell_type": "text-cell-p"
   }
  },
  {
   "cell_type": "code",
   "metadata": {
    "cell_id": "c517d529d58a41d7aa3050d8b5b69825",
    "tags": [],
    "deepnote_to_be_reexecuted": true,
    "source_hash": "f54328a9",
    "execution_start": 1667484253194,
    "execution_millis": 0,
    "deepnote_cell_type": "code"
   },
   "source": "nn = ' 5'\n\nhej = ['The' + nn + ' nodes wit:,']\n\nprint(hej)",
   "execution_count": null,
   "outputs": [
    {
     "name": "stdout",
     "text": "['The 5 nodes wit:,']\n",
     "output_type": "stream"
    }
   ]
  },
  {
   "cell_type": "markdown",
   "source": "# Community Detection\n",
   "metadata": {
    "tags": [],
    "cell_id": "28978bb45015446185065a4160d8eb9b",
    "deepnote_cell_type": "markdown"
   }
  },
  {
   "cell_type": "markdown",
   "source": "Info-map random walk community detection",
   "metadata": {
    "formattedRanges": [],
    "tags": [],
    "cell_id": "3cae72665d4a4bbb83833d50a0df6f3f",
    "is_collapsed": false,
    "deepnote_cell_type": "text-cell-p"
   }
  },
  {
   "cell_type": "code",
   "metadata": {
    "tags": [],
    "cell_id": "68980bb5acf34f95ac877c55099cfb08",
    "deepnote_to_be_reexecuted": true,
    "source_hash": "90680bb",
    "deepnote_cell_type": "code"
   },
   "source": "# cdlib.algorithms.infomap \n# random walk infomap # se side 424 i bogen",
   "execution_count": null,
   "outputs": []
  },
  {
   "cell_type": "markdown",
   "source": "Label Percolation",
   "metadata": {
    "formattedRanges": [],
    "tags": [],
    "cell_id": "bdf405ec0caa476b9c69a554ee27d6bc",
    "is_collapsed": false,
    "deepnote_cell_type": "text-cell-p"
   }
  },
  {
   "cell_type": "markdown",
   "source": "We start with a network whose node labels are scattered\nrandomly. Then each node looks at its neighbours and adopts the\nmost common labels it sees (if there is a tie, it will choose a random\none among the most popular).",
   "metadata": {
    "formattedRanges": [],
    "tags": [],
    "cell_id": "994420e48491462db504ad470ab47c1c",
    "is_collapsed": false,
    "deepnote_cell_type": "text-cell-p"
   }
  },
  {
   "cell_type": "markdown",
   "source": "Label propagation??? what is the difference ",
   "metadata": {
    "formattedRanges": [],
    "tags": [],
    "cell_id": "b7085115d522477292f0eaa2446c1acd",
    "is_collapsed": false,
    "deepnote_cell_type": "text-cell-p"
   }
  },
  {
   "cell_type": "code",
   "metadata": {
    "tags": [],
    "cell_id": "92f2a41f508c448b8812d67a0834c764",
    "deepnote_to_be_reexecuted": true,
    "source_hash": "694c8b6",
    "deepnote_cell_type": "code"
   },
   "source": "#k_clique_communities(G, k[, cliques]) \n\n# Find k-clique communities in graph using the percolation method.",
   "execution_count": null,
   "outputs": []
  },
  {
   "cell_type": "markdown",
   "source": "# Summary test",
   "metadata": {
    "formattedRanges": [],
    "is_collapsed": false,
    "cell_id": "4880a0ca1d88441ba4c54533cc80522e",
    "tags": [],
    "deepnote_cell_type": "text-cell-h1"
   }
  },
  {
   "cell_type": "code",
   "metadata": {
    "cell_id": "a7ac916d267041b7af28729e9da5e85f",
    "tags": [],
    "deepnote_to_be_reexecuted": true,
    "source_hash": "f87fa664",
    "execution_start": 1667485398449,
    "execution_millis": 5,
    "deepnote_cell_type": "code"
   },
   "source": "from tabulate import tabulate\n",
   "execution_count": null,
   "outputs": [
    {
     "name": "stdout",
     "text": "  Pos  Team           Win    Lose\n-----  -----------  -----  ------\n    1  Liquid          24      12\n    2  Virtus.pro      19      14\n    3  PSG.LGD         15      19\n    4  Team Secret     10      20\n",
     "output_type": "stream"
    }
   ]
  },
  {
   "cell_type": "code",
   "metadata": {
    "cell_id": "9932fdb5b71541a4b3a8d446ad57322e",
    "tags": [],
    "deepnote_to_be_reexecuted": true,
    "source_hash": "1e7ea042",
    "execution_start": 1667483177259,
    "execution_millis": 524,
    "deepnote_cell_type": "code"
   },
   "source": "len(G.edges())",
   "execution_count": null,
   "outputs": [
    {
     "output_type": "execute_result",
     "execution_count": 56,
     "data": {
      "text/plain": "14496"
     },
     "metadata": {}
    }
   ]
  },
  {
   "cell_type": "code",
   "metadata": {
    "cell_id": "8eda979c8a8145c5993ae4c966909fff",
    "tags": [],
    "deepnote_to_be_reexecuted": false,
    "source_hash": "334618b4",
    "execution_start": 1668082713494,
    "execution_millis": 184,
    "deepnote_cell_type": "code"
   },
   "source": "#We take the largest compontent from tge graph\n\nlargest_cc = max(nx.connected_components(G), key=len)\n\nLG = G.subgraph(largest_cc)\n\n#Make a list with all cliques\nclique_list = list(nx.find_cliques_recursive(LG)) \n\n#Use functions rom Networkx to find the largest clique and the number of maximal cliques in our graph\nlargest_clique = nx.graph_clique_number(LG, clique_list) #Size of the largest of a clique\nmaximal_cliques = nx.graph_number_of_cliques(LG, clique_list) #Return the number of max cliques\n\nprint(f\"Number of maximal cliques in the compontent: {maximal_cliques}\")\nprint(f\"Largest clique in network: {largest_clique}.\")",
   "execution_count": null,
   "outputs": [
    {
     "name": "stdout",
     "text": "Number of maximal cliques in the compontent: 3385\nLargest clique in network: 44.\n",
     "output_type": "stream"
    }
   ]
  }
 ],
 "nbformat": 4,
 "nbformat_minor": 0,
 "metadata": {
  "vscode": {
   "interpreter": {
    "hash": "b989256eb56f7c452f8df4a64159a114113bfaae6a03bedf3a667d033260f0d6"
   }
  },
  "deepnote": {},
  "kernelspec": {
   "name": "python3",
   "language": "python",
   "display_name": "Python 3.9.12 ('base')"
  },
  "language_info": {
   "name": "python",
   "version": "3.9.12",
   "mimetype": "text/x-python",
   "file_extension": ".py",
   "pygments_lexer": "ipython3",
   "codemirror_mode": {
    "name": "ipython",
    "version": 3
   },
   "nbconvert_exporter": "python"
  },
  "orig_nbformat": 2,
  "deepnote_full_width": false,
  "deepnote_notebook_id": "bde7485278f94e0f8a6105310bd7bf43",
  "deepnote_execution_queue": [],
  "deepnote_persisted_session": {
   "createdAt": "2022-11-10T14:16:18.206Z"
  }
 }
}