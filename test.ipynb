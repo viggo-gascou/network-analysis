{
 "cells": [
  {
   "cell_type": "code",
   "source": "!git add .",
   "metadata": {
    "tags": [],
    "cell_id": "cc8caac1-4e33-4bc4-a2bf-ab5da4a911f4",
    "deepnote_to_be_reexecuted": true,
    "source_hash": "f959fda0",
    "execution_start": 1668362731062,
    "execution_millis": 302,
    "deepnote_cell_type": "code",
    "deepnote_cell_height": 696
   },
   "outputs": [
    {
     "name": "stdout",
     "text": "On branch main\nYour branch is up to date with 'origin/main'.\n\nChanges not staged for commit:\n  (use \"git add/rm <file>...\" to update what will be committed)\n  (use \"git restore <file>...\" to discard changes in working directory)\n\t\u001b[31mmodified:   README.md\u001b[m\n\t\u001b[31mmodified:   TODO.md\u001b[m\n\t\u001b[31mdeleted:    betweenness_centrality.csv\u001b[m\n\t\u001b[31mmodified:   ccdf_fit.png\u001b[m\n\t\u001b[31mdeleted:    darkweb_2017/darkweb-edges.ss\u001b[m\n\t\u001b[31mdeleted:    darkweb_2017/darkweb-nodes.ss\u001b[m\n\t\u001b[31mmodified:   degree_distribution_ccdf.png\u001b[m\n\t\u001b[31mmodified:   main_authors.ipynb\u001b[m\n\t\u001b[31mdeleted:    main_darkweb.ipynb\u001b[m\n\t\u001b[31mdeleted:    main_powergrid.ipynb\u001b[m\n\t\u001b[31mdeleted:    opsahl-powergrid/README.md\u001b[m\n\t\u001b[31mdeleted:    opsahl-powergrid/edge_list.csv\u001b[m\n\t\u001b[31mdeleted:    opsahl-powergrid/meta.txt\u001b[m\n\t\u001b[31mdeleted:    opsahl-powergrid/node_list.csv\u001b[m\n\t\u001b[31mdeleted:    opsahl-powergrid/out.txt\u001b[m\n\nUntracked files:\n  (use \"git add <file>...\" to include in what will be committed)\n\t\u001b[31mcommunities.ipynb\u001b[m\n\t\u001b[31mfigures/graph_with_edges.png\u001b[m\n\t\u001b[31mlink_pred.ipynb\u001b[m\n\t\u001b[31mscripts/\u001b[m\n\t\u001b[31mtest.ipynb\u001b[m\n\t\u001b[31mtest.md\u001b[m\n\t\u001b[31mtest_scripts.ipynb\u001b[m\n\nno changes added to commit (use \"git add\" and/or \"git commit -a\")\n",
     "output_type": "stream"
    }
   ],
   "execution_count": null
  },
  {
   "cell_type": "code",
   "source": "!git commit -m \"automatic commit from deepnote\"",
   "metadata": {
    "cell_id": "f1a6bc3e86d04b7ca275f1d1b23c6aad",
    "tags": [],
    "deepnote_to_be_reexecuted": true,
    "source_hash": "68ac090f",
    "deepnote_cell_type": "code",
    "deepnote_cell_height": 61
   },
   "outputs": [],
   "execution_count": null
  },
  {
   "cell_type": "code",
   "source": "!git push",
   "metadata": {
    "cell_id": "e45de223ca9e4edaa3608d2975d7efe0",
    "tags": [],
    "deepnote_to_be_reexecuted": true,
    "source_hash": "3ed840b7",
    "deepnote_cell_type": "code",
    "deepnote_cell_height": 61
   },
   "outputs": [],
   "execution_count": null
  }
 ],
 "nbformat": 4,
 "nbformat_minor": 2,
 "metadata": {
  "orig_nbformat": 2,
  "deepnote": {},
  "deepnote_notebook_id": "ff16fed3-fc01-41f4-aab6-89b9fb7f20f9",
  "deepnote_execution_queue": [
   {
    "cellId": "cc8caac1-4e33-4bc4-a2bf-ab5da4a911f4",
    "sessionId": "09229b2b-0cf0-49fb-8d4d-2298afb8fb46",
    "msgId": "6f47f8b9-5406-4295-a227-87b6b1c148e1"
   },
   {
    "cellId": "f1a6bc3e86d04b7ca275f1d1b23c6aad",
    "sessionId": "09229b2b-0cf0-49fb-8d4d-2298afb8fb46",
    "msgId": "c3ce34c9-f349-4dda-a731-13dfc46f7fe8"
   },
   {
    "cellId": "e45de223ca9e4edaa3608d2975d7efe0",
    "sessionId": "09229b2b-0cf0-49fb-8d4d-2298afb8fb46",
    "msgId": "e5adc7bb-6a50-4eca-965f-2fb742094e7c"
   }
  ]
 }
}