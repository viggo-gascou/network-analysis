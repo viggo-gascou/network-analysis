{
 "cells": [
  {
   "cell_type": "markdown",
   "source": "# Components",
   "metadata": {
    "is_collapsed": false,
    "tags": [],
    "cell_id": "54970f0c-c235-4d1e-ad60-757730f63077",
    "formattedRanges": [],
    "deepnote_cell_type": "text-cell-h1"
   }
  },
  {
   "cell_type": "code",
   "metadata": {
    "tags": [],
    "deepnote_to_be_reexecuted": false,
    "source_hash": "d0283a2b",
    "execution_start": 1668677063875,
    "execution_millis": 460,
    "cell_id": "00001-8627ff85-ff7d-454c-accc-83fbf889c545",
    "deepnote_cell_type": "code",
    "deepnote_cell_height": 148
   },
   "source": "import pandas as pd\nimport networkx as nx\nimport matplotlib.pyplot as plt\nimport matplotlib.colors as colors\n",
   "execution_count": 2,
   "outputs": []
  },
  {
   "cell_type": "code",
   "metadata": {
    "tags": [],
    "deepnote_to_be_reexecuted": false,
    "source_hash": "2acd97af",
    "execution_start": 1668677065846,
    "execution_millis": 74,
    "cell_id": "00002-7907f186-5e12-4efe-bcb2-6e33266000be",
    "deepnote_cell_type": "code",
    "deepnote_cell_height": 166
   },
   "source": "# Load data\n\nedge_df = pd.read_csv(\"data/edges.csv\", delimiter=\",\")\nnode_df = pd.read_csv(\"data/nodes.csv\", delimiter=\",\")\n\nG = nx.from_pandas_edgelist(edge_df, source=\"# source\", target=\" target\", create_using=nx.Graph())",
   "execution_count": 3,
   "outputs": []
  },
  {
   "cell_type": "code",
   "source": "largest_cc = max(nx.connected_components(G), key=len)\nLG = G.subgraph(largest_cc)\n\n\nnumber_of_nodes_LG = nx.number_of_nodes(LG)\nnumber_of_nodes_G = nx.number_of_nodes(G)\nprint(number_of_nodes_G)\n\nprocentage = number_of_nodes_LG*100/number_of_nodes_G\nprint(f\"Largest component procentage of the whole graph: {round(procentage, 2)}%\")",
   "metadata": {
    "tags": [],
    "deepnote_to_be_reexecuted": false,
    "source_hash": "2fcf05c6",
    "execution_start": 1668679518320,
    "execution_millis": 348,
    "cell_id": "00006-23ce13a1-3353-4ad3-9837-bd6479baca0a",
    "deepnote_cell_type": "code",
    "deepnote_cell_height": 289
   },
   "execution_count": 31,
   "outputs": [
    {
     "name": "stdout",
     "text": "5242\nLargest component procentage of the whole graph: 79.32%\n",
     "output_type": "stream"
    }
   ]
  },
  {
   "cell_type": "code",
   "source": "list_of_all_components = [len(c) for c in sorted(nx.connected_components(G), key=len, reverse=True)]\nprint(f\"Number of components without the biggest is {len(list_of_all_components)-1}, where the size range is 1-14\")",
   "metadata": {
    "tags": [],
    "cell_id": "00011-0c5f3905-513b-4765-a1e7-78bceb57e45a",
    "deepnote_to_be_reexecuted": false,
    "source_hash": "a4001bf3",
    "execution_start": 1668678822518,
    "execution_millis": 35,
    "deepnote_cell_type": "code",
    "deepnote_cell_height": 130
   },
   "execution_count": 28,
   "outputs": [
    {
     "name": "stdout",
     "text": "Number of components without the biggest is 354, where the size range is 1-14\n",
     "output_type": "stream"
    }
   ]
  }
 ],
 "nbformat": 4,
 "nbformat_minor": 0,
 "metadata": {
  "deepnote": {},
  "orig_nbformat": 2,
  "deepnote_notebook_id": "7a1df1ae-054b-4d65-8562-ce5826a9b831",
  "deepnote_execution_queue": []
 }
}